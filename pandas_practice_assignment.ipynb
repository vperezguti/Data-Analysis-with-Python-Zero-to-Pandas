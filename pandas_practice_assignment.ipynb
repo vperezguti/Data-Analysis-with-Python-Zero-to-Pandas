{
  "cells": [
    {
      "cell_type": "markdown",
      "metadata": {
        "id": "view-in-github",
        "colab_type": "text"
      },
      "source": [
        "<a href=\"https://colab.research.google.com/github/vperezguti/Data-Analysis-with-Python-Zero-to-Pandas/blob/main/pandas_practice_assignment.ipynb\" target=\"_parent\"><img src=\"https://colab.research.google.com/assets/colab-badge.svg\" alt=\"Open In Colab\"/></a>"
      ]
    },
    {
      "cell_type": "markdown",
      "metadata": {
        "id": "9nQOIjsKAAUI"
      },
      "source": [
        "# Assignment 3 - Pandas Data Analysis Practice\n",
        "\n",
        "*This assignment is a part of the course [\"Data Analysis with Python: Zero to Pandas\"](https://jovian.ai/learn/data-analysis-with-python-zero-to-pandas)*\n",
        "\n",
        "In this assignment, you'll get to practice some of the concepts and skills covered in this tutorial: https://jovian.ai/aakashns/python-pandas-data-analysis\n",
        "\n",
        "As you go through this notebook, you will find a **???** in certain places. To complete this assignment, you must replace all the **???** with appropriate values, expressions or statements to ensure that the notebook runs properly end-to-end. \n",
        "\n",
        "Some things to keep in mind:\n",
        "\n",
        "* Make sure to run all the code cells, otherwise you may get errors like `NameError` for undefined variables.\n",
        "* Do not change variable names, delete cells or disturb other existing code. It may cause problems during evaluation.\n",
        "* In some cases, you may need to add some code cells or new statements before or after the line of code containing the **???**. \n",
        "* Since you'll be using a temporary online service for code execution, save your work by running `jovian.commit` at regular intervals.\n",
        "* Questions marked **(Optional)** will not be considered for evaluation, and can be skipped. They are for your learning.\n",
        "\n",
        "You can make submissions on this page: https://jovian.ai/learn/data-analysis-with-python-zero-to-pandas/assignment/assignment-3-pandas-practice\n",
        "\n",
        "If you are stuck, you can ask for help on the community forum: https://jovian.ai/forum/t/assignment-3-pandas-practice/11225/3. You can get help with errors or ask for hints, describe your approach in simple words, link to documentation, but **please don't ask for or share the full working answer code** on the forum.\n",
        "\n",
        "\n",
        "## How to run the code and save your work\n",
        "\n",
        "The recommended way to run this notebook is to click the \"Run\" button at the top of this page, and select \"Run on Binder\". This will run the notebook on [mybinder.org](https://mybinder.org), a free online service for running Jupyter notebooks. \n",
        "\n",
        "Before starting the assignment, let's save a snapshot of the assignment to your Jovian.ai profile, so that you can access it later, and continue your work."
      ]
    },
    {
      "cell_type": "code",
      "execution_count": 1,
      "metadata": {
        "colab": {
          "base_uri": "https://localhost:8080/",
          "height": 451
        },
        "id": "MC_T0d3XAR6w",
        "outputId": "abc77d82-c79f-4422-afab-ec8826c0f01c"
      },
      "outputs": [
        {
          "output_type": "stream",
          "name": "stdout",
          "text": [
            "Looking in indexes: https://pypi.org/simple, https://us-python.pkg.dev/colab-wheels/public/simple/\n",
            "Collecting jovian\n",
            "  Downloading jovian-0.2.45-py2.py3-none-any.whl (68 kB)\n",
            "\u001b[K     |████████████████████████████████| 68 kB 1.7 MB/s \n",
            "\u001b[?25hRequirement already satisfied: pyyaml in /usr/local/lib/python3.8/dist-packages (from jovian) (6.0)\n",
            "Collecting uuid\n",
            "  Downloading uuid-1.30.tar.gz (5.8 kB)\n",
            "Requirement already satisfied: requests in /usr/local/lib/python3.8/dist-packages (from jovian) (2.23.0)\n",
            "Requirement already satisfied: click in /usr/local/lib/python3.8/dist-packages (from jovian) (7.1.2)\n",
            "Requirement already satisfied: urllib3!=1.25.0,!=1.25.1,<1.26,>=1.21.1 in /usr/local/lib/python3.8/dist-packages (from requests->jovian) (1.24.3)\n",
            "Requirement already satisfied: certifi>=2017.4.17 in /usr/local/lib/python3.8/dist-packages (from requests->jovian) (2022.9.24)\n",
            "Requirement already satisfied: chardet<4,>=3.0.2 in /usr/local/lib/python3.8/dist-packages (from requests->jovian) (3.0.4)\n",
            "Requirement already satisfied: idna<3,>=2.5 in /usr/local/lib/python3.8/dist-packages (from requests->jovian) (2.10)\n",
            "Building wheels for collected packages: uuid\n",
            "  Building wheel for uuid (setup.py) ... \u001b[?25l\u001b[?25hdone\n",
            "  Created wheel for uuid: filename=uuid-1.30-py3-none-any.whl size=6502 sha256=fa16f594fe0c1e41ead1c6f3b9dc99bae3e54fa45a95c3dab22e9922b23cbf9c\n",
            "  Stored in directory: /root/.cache/pip/wheels/1b/6c/cb/f9aae2bc97333c3d6e060826c1ee9e44e46306a178e5783505\n",
            "Successfully built uuid\n",
            "Installing collected packages: uuid, jovian\n",
            "Successfully installed jovian-0.2.45 uuid-1.30\n"
          ]
        },
        {
          "output_type": "display_data",
          "data": {
            "application/vnd.colab-display-data+json": {
              "pip_warning": {
                "packages": [
                  "uuid"
                ]
              }
            }
          },
          "metadata": {}
        }
      ],
      "source": [
        "!pip install jovian"
      ]
    },
    {
      "cell_type": "code",
      "execution_count": 2,
      "metadata": {
        "id": "RkrQzmL6AAUO"
      },
      "outputs": [],
      "source": [
        "import jovian"
      ]
    },
    {
      "cell_type": "code",
      "execution_count": 3,
      "metadata": {
        "colab": {
          "base_uri": "https://localhost:8080/"
        },
        "id": "dw88pGl-AAUP",
        "outputId": "566530aa-0c4d-4fdd-9d42-853c2ff2883d"
      },
      "outputs": [
        {
          "output_type": "stream",
          "name": "stdout",
          "text": [
            "[jovian] Detected Colab notebook...\u001b[0m\n",
            "[jovian] jovian.commit() is no longer required on Google Colab. If you ran this notebook from Jovian, \n",
            "then just save this file in Colab using Ctrl+S/Cmd+S and it will be updated on Jovian. \n",
            "Also, you can also delete this cell, it's no longer necessary.\u001b[0m\n"
          ]
        }
      ],
      "source": [
        "jovian.commit(project='pandas-practice-assignment', environment=None)"
      ]
    },
    {
      "cell_type": "code",
      "execution_count": 4,
      "metadata": {
        "id": "JLUiah_bAAUP"
      },
      "outputs": [],
      "source": [
        "# Run the next line to install Pandas\n"
      ]
    },
    {
      "cell_type": "code",
      "execution_count": 5,
      "metadata": {
        "id": "jCOUahwhAAUQ"
      },
      "outputs": [],
      "source": [
        "import pandas as pd"
      ]
    },
    {
      "cell_type": "markdown",
      "metadata": {
        "id": "Jb7XcTmpAAUQ"
      },
      "source": [
        "In this assignment, we're going to analyze an operate on data from a CSV file. Let's begin by downloading the CSV file."
      ]
    },
    {
      "cell_type": "code",
      "execution_count": 6,
      "metadata": {
        "colab": {
          "base_uri": "https://localhost:8080/"
        },
        "id": "moiQS3XoAAUQ",
        "outputId": "89243b93-5a30-4d9e-b886-73cdbf7bb7dc"
      },
      "outputs": [
        {
          "output_type": "execute_result",
          "data": {
            "text/plain": [
              "('countries.csv', <http.client.HTTPMessage at 0x7ff7d46dd400>)"
            ]
          },
          "metadata": {},
          "execution_count": 6
        }
      ],
      "source": [
        "from urllib.request import urlretrieve\n",
        "\n",
        "urlretrieve('https://gist.githubusercontent.com/aakashns/28b2e504b3350afd9bdb157893f9725c/raw/994b65665757f4f8887db1c85986a897abb23d84/countries.csv', \n",
        "            'countries.csv')"
      ]
    },
    {
      "cell_type": "markdown",
      "metadata": {
        "id": "AKEdeQCXAAUR"
      },
      "source": [
        "Let's load the data from the CSV file into a Pandas data frame."
      ]
    },
    {
      "cell_type": "code",
      "execution_count": 7,
      "metadata": {
        "id": "usNCSqkdAAUS"
      },
      "outputs": [],
      "source": [
        "countries_df = pd.read_csv('countries.csv')"
      ]
    },
    {
      "cell_type": "code",
      "execution_count": 8,
      "metadata": {
        "colab": {
          "base_uri": "https://localhost:8080/",
          "height": 424
        },
        "id": "pmaKr2ItAAUS",
        "outputId": "d35eb30d-33af-4956-be8d-e8d4692847a4"
      },
      "outputs": [
        {
          "output_type": "execute_result",
          "data": {
            "text/plain": [
              "           location continent  population  life_expectancy  \\\n",
              "0       Afghanistan      Asia  38928341.0            64.83   \n",
              "1           Albania    Europe   2877800.0            78.57   \n",
              "2           Algeria    Africa  43851043.0            76.88   \n",
              "3           Andorra    Europe     77265.0            83.73   \n",
              "4            Angola    Africa  32866268.0            61.15   \n",
              "..              ...       ...         ...              ...   \n",
              "205         Vietnam      Asia  97338583.0            75.40   \n",
              "206  Western Sahara    Africa    597330.0            70.26   \n",
              "207           Yemen      Asia  29825968.0            66.12   \n",
              "208          Zambia    Africa  18383956.0            63.89   \n",
              "209        Zimbabwe    Africa  14862927.0            61.49   \n",
              "\n",
              "     hospital_beds_per_thousand  gdp_per_capita  \n",
              "0                          0.50        1803.987  \n",
              "1                          2.89       11803.431  \n",
              "2                          1.90       13913.839  \n",
              "3                           NaN             NaN  \n",
              "4                           NaN        5819.495  \n",
              "..                          ...             ...  \n",
              "205                        2.60        6171.884  \n",
              "206                         NaN             NaN  \n",
              "207                        0.70        1479.147  \n",
              "208                        2.00        3689.251  \n",
              "209                        1.70        1899.775  \n",
              "\n",
              "[210 rows x 6 columns]"
            ],
            "text/html": [
              "\n",
              "  <div id=\"df-fd0b2d79-b85c-446b-97bf-ddd9cf9d4af8\">\n",
              "    <div class=\"colab-df-container\">\n",
              "      <div>\n",
              "<style scoped>\n",
              "    .dataframe tbody tr th:only-of-type {\n",
              "        vertical-align: middle;\n",
              "    }\n",
              "\n",
              "    .dataframe tbody tr th {\n",
              "        vertical-align: top;\n",
              "    }\n",
              "\n",
              "    .dataframe thead th {\n",
              "        text-align: right;\n",
              "    }\n",
              "</style>\n",
              "<table border=\"1\" class=\"dataframe\">\n",
              "  <thead>\n",
              "    <tr style=\"text-align: right;\">\n",
              "      <th></th>\n",
              "      <th>location</th>\n",
              "      <th>continent</th>\n",
              "      <th>population</th>\n",
              "      <th>life_expectancy</th>\n",
              "      <th>hospital_beds_per_thousand</th>\n",
              "      <th>gdp_per_capita</th>\n",
              "    </tr>\n",
              "  </thead>\n",
              "  <tbody>\n",
              "    <tr>\n",
              "      <th>0</th>\n",
              "      <td>Afghanistan</td>\n",
              "      <td>Asia</td>\n",
              "      <td>38928341.0</td>\n",
              "      <td>64.83</td>\n",
              "      <td>0.50</td>\n",
              "      <td>1803.987</td>\n",
              "    </tr>\n",
              "    <tr>\n",
              "      <th>1</th>\n",
              "      <td>Albania</td>\n",
              "      <td>Europe</td>\n",
              "      <td>2877800.0</td>\n",
              "      <td>78.57</td>\n",
              "      <td>2.89</td>\n",
              "      <td>11803.431</td>\n",
              "    </tr>\n",
              "    <tr>\n",
              "      <th>2</th>\n",
              "      <td>Algeria</td>\n",
              "      <td>Africa</td>\n",
              "      <td>43851043.0</td>\n",
              "      <td>76.88</td>\n",
              "      <td>1.90</td>\n",
              "      <td>13913.839</td>\n",
              "    </tr>\n",
              "    <tr>\n",
              "      <th>3</th>\n",
              "      <td>Andorra</td>\n",
              "      <td>Europe</td>\n",
              "      <td>77265.0</td>\n",
              "      <td>83.73</td>\n",
              "      <td>NaN</td>\n",
              "      <td>NaN</td>\n",
              "    </tr>\n",
              "    <tr>\n",
              "      <th>4</th>\n",
              "      <td>Angola</td>\n",
              "      <td>Africa</td>\n",
              "      <td>32866268.0</td>\n",
              "      <td>61.15</td>\n",
              "      <td>NaN</td>\n",
              "      <td>5819.495</td>\n",
              "    </tr>\n",
              "    <tr>\n",
              "      <th>...</th>\n",
              "      <td>...</td>\n",
              "      <td>...</td>\n",
              "      <td>...</td>\n",
              "      <td>...</td>\n",
              "      <td>...</td>\n",
              "      <td>...</td>\n",
              "    </tr>\n",
              "    <tr>\n",
              "      <th>205</th>\n",
              "      <td>Vietnam</td>\n",
              "      <td>Asia</td>\n",
              "      <td>97338583.0</td>\n",
              "      <td>75.40</td>\n",
              "      <td>2.60</td>\n",
              "      <td>6171.884</td>\n",
              "    </tr>\n",
              "    <tr>\n",
              "      <th>206</th>\n",
              "      <td>Western Sahara</td>\n",
              "      <td>Africa</td>\n",
              "      <td>597330.0</td>\n",
              "      <td>70.26</td>\n",
              "      <td>NaN</td>\n",
              "      <td>NaN</td>\n",
              "    </tr>\n",
              "    <tr>\n",
              "      <th>207</th>\n",
              "      <td>Yemen</td>\n",
              "      <td>Asia</td>\n",
              "      <td>29825968.0</td>\n",
              "      <td>66.12</td>\n",
              "      <td>0.70</td>\n",
              "      <td>1479.147</td>\n",
              "    </tr>\n",
              "    <tr>\n",
              "      <th>208</th>\n",
              "      <td>Zambia</td>\n",
              "      <td>Africa</td>\n",
              "      <td>18383956.0</td>\n",
              "      <td>63.89</td>\n",
              "      <td>2.00</td>\n",
              "      <td>3689.251</td>\n",
              "    </tr>\n",
              "    <tr>\n",
              "      <th>209</th>\n",
              "      <td>Zimbabwe</td>\n",
              "      <td>Africa</td>\n",
              "      <td>14862927.0</td>\n",
              "      <td>61.49</td>\n",
              "      <td>1.70</td>\n",
              "      <td>1899.775</td>\n",
              "    </tr>\n",
              "  </tbody>\n",
              "</table>\n",
              "<p>210 rows × 6 columns</p>\n",
              "</div>\n",
              "      <button class=\"colab-df-convert\" onclick=\"convertToInteractive('df-fd0b2d79-b85c-446b-97bf-ddd9cf9d4af8')\"\n",
              "              title=\"Convert this dataframe to an interactive table.\"\n",
              "              style=\"display:none;\">\n",
              "        \n",
              "  <svg xmlns=\"http://www.w3.org/2000/svg\" height=\"24px\"viewBox=\"0 0 24 24\"\n",
              "       width=\"24px\">\n",
              "    <path d=\"M0 0h24v24H0V0z\" fill=\"none\"/>\n",
              "    <path d=\"M18.56 5.44l.94 2.06.94-2.06 2.06-.94-2.06-.94-.94-2.06-.94 2.06-2.06.94zm-11 1L8.5 8.5l.94-2.06 2.06-.94-2.06-.94L8.5 2.5l-.94 2.06-2.06.94zm10 10l.94 2.06.94-2.06 2.06-.94-2.06-.94-.94-2.06-.94 2.06-2.06.94z\"/><path d=\"M17.41 7.96l-1.37-1.37c-.4-.4-.92-.59-1.43-.59-.52 0-1.04.2-1.43.59L10.3 9.45l-7.72 7.72c-.78.78-.78 2.05 0 2.83L4 21.41c.39.39.9.59 1.41.59.51 0 1.02-.2 1.41-.59l7.78-7.78 2.81-2.81c.8-.78.8-2.07 0-2.86zM5.41 20L4 18.59l7.72-7.72 1.47 1.35L5.41 20z\"/>\n",
              "  </svg>\n",
              "      </button>\n",
              "      \n",
              "  <style>\n",
              "    .colab-df-container {\n",
              "      display:flex;\n",
              "      flex-wrap:wrap;\n",
              "      gap: 12px;\n",
              "    }\n",
              "\n",
              "    .colab-df-convert {\n",
              "      background-color: #E8F0FE;\n",
              "      border: none;\n",
              "      border-radius: 50%;\n",
              "      cursor: pointer;\n",
              "      display: none;\n",
              "      fill: #1967D2;\n",
              "      height: 32px;\n",
              "      padding: 0 0 0 0;\n",
              "      width: 32px;\n",
              "    }\n",
              "\n",
              "    .colab-df-convert:hover {\n",
              "      background-color: #E2EBFA;\n",
              "      box-shadow: 0px 1px 2px rgba(60, 64, 67, 0.3), 0px 1px 3px 1px rgba(60, 64, 67, 0.15);\n",
              "      fill: #174EA6;\n",
              "    }\n",
              "\n",
              "    [theme=dark] .colab-df-convert {\n",
              "      background-color: #3B4455;\n",
              "      fill: #D2E3FC;\n",
              "    }\n",
              "\n",
              "    [theme=dark] .colab-df-convert:hover {\n",
              "      background-color: #434B5C;\n",
              "      box-shadow: 0px 1px 3px 1px rgba(0, 0, 0, 0.15);\n",
              "      filter: drop-shadow(0px 1px 2px rgba(0, 0, 0, 0.3));\n",
              "      fill: #FFFFFF;\n",
              "    }\n",
              "  </style>\n",
              "\n",
              "      <script>\n",
              "        const buttonEl =\n",
              "          document.querySelector('#df-fd0b2d79-b85c-446b-97bf-ddd9cf9d4af8 button.colab-df-convert');\n",
              "        buttonEl.style.display =\n",
              "          google.colab.kernel.accessAllowed ? 'block' : 'none';\n",
              "\n",
              "        async function convertToInteractive(key) {\n",
              "          const element = document.querySelector('#df-fd0b2d79-b85c-446b-97bf-ddd9cf9d4af8');\n",
              "          const dataTable =\n",
              "            await google.colab.kernel.invokeFunction('convertToInteractive',\n",
              "                                                     [key], {});\n",
              "          if (!dataTable) return;\n",
              "\n",
              "          const docLinkHtml = 'Like what you see? Visit the ' +\n",
              "            '<a target=\"_blank\" href=https://colab.research.google.com/notebooks/data_table.ipynb>data table notebook</a>'\n",
              "            + ' to learn more about interactive tables.';\n",
              "          element.innerHTML = '';\n",
              "          dataTable['output_type'] = 'display_data';\n",
              "          await google.colab.output.renderOutput(dataTable, element);\n",
              "          const docLink = document.createElement('div');\n",
              "          docLink.innerHTML = docLinkHtml;\n",
              "          element.appendChild(docLink);\n",
              "        }\n",
              "      </script>\n",
              "    </div>\n",
              "  </div>\n",
              "  "
            ]
          },
          "metadata": {},
          "execution_count": 8
        }
      ],
      "source": [
        "countries_df"
      ]
    },
    {
      "cell_type": "markdown",
      "metadata": {
        "id": "Xp5B337XAAUT"
      },
      "source": [
        "**Q1: How many countries does the dataframe contain?**\n",
        "\n",
        "Hint: Use the `.shape` method."
      ]
    },
    {
      "cell_type": "code",
      "execution_count": 9,
      "metadata": {
        "id": "v4nHNjInAAUT"
      },
      "outputs": [],
      "source": [
        "num_countries = countries_df.shape[0]"
      ]
    },
    {
      "cell_type": "code",
      "execution_count": 10,
      "metadata": {
        "colab": {
          "base_uri": "https://localhost:8080/"
        },
        "id": "YMD4DYZFAAUT",
        "outputId": "67880c55-62b9-4c4f-f4e0-fcf12ac56a55"
      },
      "outputs": [
        {
          "output_type": "stream",
          "name": "stdout",
          "text": [
            "There are 210 countries in the dataset\n"
          ]
        }
      ],
      "source": [
        "print('There are {} countries in the dataset'.format(num_countries))"
      ]
    },
    {
      "cell_type": "code",
      "execution_count": 11,
      "metadata": {
        "colab": {
          "base_uri": "https://localhost:8080/"
        },
        "id": "XJ5liDP2AAUU",
        "outputId": "77a78427-73c6-4cf6-a3d6-d47012a103b4"
      },
      "outputs": [
        {
          "output_type": "stream",
          "name": "stdout",
          "text": [
            "[jovian] Detected Colab notebook...\u001b[0m\n",
            "[jovian] jovian.commit() is no longer required on Google Colab. If you ran this notebook from Jovian, \n",
            "then just save this file in Colab using Ctrl+S/Cmd+S and it will be updated on Jovian. \n",
            "Also, you can also delete this cell, it's no longer necessary.\u001b[0m\n"
          ]
        }
      ],
      "source": [
        "jovian.commit(project='pandas-practice-assignment', environment=None)"
      ]
    },
    {
      "cell_type": "markdown",
      "metadata": {
        "id": "5LKR55jbAAUU"
      },
      "source": [
        "**Q2: Retrieve a list of continents from the dataframe?**\n",
        "\n",
        "*Hint: Use the `.unique` method of a series.*"
      ]
    },
    {
      "cell_type": "code",
      "execution_count": 12,
      "metadata": {
        "id": "RdKlV7cYAAUU"
      },
      "outputs": [],
      "source": [
        "continents = countries_df[\"continent\"].unique()"
      ]
    },
    {
      "cell_type": "code",
      "execution_count": 13,
      "metadata": {
        "colab": {
          "base_uri": "https://localhost:8080/"
        },
        "id": "e7OZasdjAAUV",
        "outputId": "b3c7b6cc-2dd3-4499-d5f7-532e92b600b5"
      },
      "outputs": [
        {
          "output_type": "execute_result",
          "data": {
            "text/plain": [
              "array(['Asia', 'Europe', 'Africa', 'North America', 'South America',\n",
              "       'Oceania'], dtype=object)"
            ]
          },
          "metadata": {},
          "execution_count": 13
        }
      ],
      "source": [
        "continents"
      ]
    },
    {
      "cell_type": "code",
      "execution_count": 14,
      "metadata": {
        "colab": {
          "base_uri": "https://localhost:8080/"
        },
        "id": "bvojZ0uGAAUV",
        "outputId": "1c5ea94f-3023-40a9-d3cf-260694e44900"
      },
      "outputs": [
        {
          "output_type": "stream",
          "name": "stdout",
          "text": [
            "[jovian] Detected Colab notebook...\u001b[0m\n",
            "[jovian] jovian.commit() is no longer required on Google Colab. If you ran this notebook from Jovian, \n",
            "then just save this file in Colab using Ctrl+S/Cmd+S and it will be updated on Jovian. \n",
            "Also, you can also delete this cell, it's no longer necessary.\u001b[0m\n"
          ]
        }
      ],
      "source": [
        "jovian.commit(project='pandas-practice-assignment', environment=None)"
      ]
    },
    {
      "cell_type": "markdown",
      "metadata": {
        "id": "TyCr4iLwAAUV"
      },
      "source": [
        "**Q3: What is the total population of all the countries listed in this dataset?**"
      ]
    },
    {
      "cell_type": "code",
      "execution_count": 15,
      "metadata": {
        "id": "ArdCAWmBAAUV"
      },
      "outputs": [],
      "source": [
        "total_population = countries_df[\"population\"].sum()"
      ]
    },
    {
      "cell_type": "code",
      "execution_count": 16,
      "metadata": {
        "colab": {
          "base_uri": "https://localhost:8080/"
        },
        "id": "aBIR0thmAAUW",
        "outputId": "d34b9317-3f53-4b38-d6c0-49d450aaf51e"
      },
      "outputs": [
        {
          "output_type": "stream",
          "name": "stdout",
          "text": [
            "The total population is 7757980095.\n"
          ]
        }
      ],
      "source": [
        "print('The total population is {}.'.format(int(total_population)))"
      ]
    },
    {
      "cell_type": "code",
      "execution_count": 17,
      "metadata": {
        "colab": {
          "base_uri": "https://localhost:8080/"
        },
        "id": "ACDiycohAAUW",
        "outputId": "3d49f65d-84e9-4784-cf1e-0390698a9384"
      },
      "outputs": [
        {
          "output_type": "stream",
          "name": "stdout",
          "text": [
            "[jovian] Detected Colab notebook...\u001b[0m\n",
            "[jovian] jovian.commit() is no longer required on Google Colab. If you ran this notebook from Jovian, \n",
            "then just save this file in Colab using Ctrl+S/Cmd+S and it will be updated on Jovian. \n",
            "Also, you can also delete this cell, it's no longer necessary.\u001b[0m\n"
          ]
        }
      ],
      "source": [
        "jovian.commit(project='pandas-practice-assignment', environment=None)"
      ]
    },
    {
      "cell_type": "markdown",
      "metadata": {
        "id": "QysA1XaqAAUW"
      },
      "source": [
        "**Q: (Optional) What is the overall life expectancy across in the world?**\n",
        "\n",
        "*Hint: You'll need to take a weighted average of life expectancy using populations as weights.*"
      ]
    },
    {
      "cell_type": "code",
      "execution_count": 18,
      "metadata": {
        "colab": {
          "base_uri": "https://localhost:8080/",
          "height": 206
        },
        "id": "_t4B7o4SAAUW",
        "outputId": "61337e41-796d-4a2e-eaa2-fb9c3325c138"
      },
      "outputs": [
        {
          "output_type": "execute_result",
          "data": {
            "text/plain": [
              "      location continent  population  life_expectancy  \\\n",
              "0  Afghanistan      Asia  38928341.0            64.83   \n",
              "1      Albania    Europe   2877800.0            78.57   \n",
              "2      Algeria    Africa  43851043.0            76.88   \n",
              "3      Andorra    Europe     77265.0            83.73   \n",
              "4       Angola    Africa  32866268.0            61.15   \n",
              "\n",
              "   hospital_beds_per_thousand  gdp_per_capita  total_life_exp  \n",
              "0                        0.50        1803.987    2.523724e+09  \n",
              "1                        2.89       11803.431    2.261087e+08  \n",
              "2                        1.90       13913.839    3.371268e+09  \n",
              "3                         NaN             NaN    6.469398e+06  \n",
              "4                         NaN        5819.495    2.009772e+09  "
            ],
            "text/html": [
              "\n",
              "  <div id=\"df-c2341580-38dd-4102-ac8b-b6cb62363cc2\">\n",
              "    <div class=\"colab-df-container\">\n",
              "      <div>\n",
              "<style scoped>\n",
              "    .dataframe tbody tr th:only-of-type {\n",
              "        vertical-align: middle;\n",
              "    }\n",
              "\n",
              "    .dataframe tbody tr th {\n",
              "        vertical-align: top;\n",
              "    }\n",
              "\n",
              "    .dataframe thead th {\n",
              "        text-align: right;\n",
              "    }\n",
              "</style>\n",
              "<table border=\"1\" class=\"dataframe\">\n",
              "  <thead>\n",
              "    <tr style=\"text-align: right;\">\n",
              "      <th></th>\n",
              "      <th>location</th>\n",
              "      <th>continent</th>\n",
              "      <th>population</th>\n",
              "      <th>life_expectancy</th>\n",
              "      <th>hospital_beds_per_thousand</th>\n",
              "      <th>gdp_per_capita</th>\n",
              "      <th>total_life_exp</th>\n",
              "    </tr>\n",
              "  </thead>\n",
              "  <tbody>\n",
              "    <tr>\n",
              "      <th>0</th>\n",
              "      <td>Afghanistan</td>\n",
              "      <td>Asia</td>\n",
              "      <td>38928341.0</td>\n",
              "      <td>64.83</td>\n",
              "      <td>0.50</td>\n",
              "      <td>1803.987</td>\n",
              "      <td>2.523724e+09</td>\n",
              "    </tr>\n",
              "    <tr>\n",
              "      <th>1</th>\n",
              "      <td>Albania</td>\n",
              "      <td>Europe</td>\n",
              "      <td>2877800.0</td>\n",
              "      <td>78.57</td>\n",
              "      <td>2.89</td>\n",
              "      <td>11803.431</td>\n",
              "      <td>2.261087e+08</td>\n",
              "    </tr>\n",
              "    <tr>\n",
              "      <th>2</th>\n",
              "      <td>Algeria</td>\n",
              "      <td>Africa</td>\n",
              "      <td>43851043.0</td>\n",
              "      <td>76.88</td>\n",
              "      <td>1.90</td>\n",
              "      <td>13913.839</td>\n",
              "      <td>3.371268e+09</td>\n",
              "    </tr>\n",
              "    <tr>\n",
              "      <th>3</th>\n",
              "      <td>Andorra</td>\n",
              "      <td>Europe</td>\n",
              "      <td>77265.0</td>\n",
              "      <td>83.73</td>\n",
              "      <td>NaN</td>\n",
              "      <td>NaN</td>\n",
              "      <td>6.469398e+06</td>\n",
              "    </tr>\n",
              "    <tr>\n",
              "      <th>4</th>\n",
              "      <td>Angola</td>\n",
              "      <td>Africa</td>\n",
              "      <td>32866268.0</td>\n",
              "      <td>61.15</td>\n",
              "      <td>NaN</td>\n",
              "      <td>5819.495</td>\n",
              "      <td>2.009772e+09</td>\n",
              "    </tr>\n",
              "  </tbody>\n",
              "</table>\n",
              "</div>\n",
              "      <button class=\"colab-df-convert\" onclick=\"convertToInteractive('df-c2341580-38dd-4102-ac8b-b6cb62363cc2')\"\n",
              "              title=\"Convert this dataframe to an interactive table.\"\n",
              "              style=\"display:none;\">\n",
              "        \n",
              "  <svg xmlns=\"http://www.w3.org/2000/svg\" height=\"24px\"viewBox=\"0 0 24 24\"\n",
              "       width=\"24px\">\n",
              "    <path d=\"M0 0h24v24H0V0z\" fill=\"none\"/>\n",
              "    <path d=\"M18.56 5.44l.94 2.06.94-2.06 2.06-.94-2.06-.94-.94-2.06-.94 2.06-2.06.94zm-11 1L8.5 8.5l.94-2.06 2.06-.94-2.06-.94L8.5 2.5l-.94 2.06-2.06.94zm10 10l.94 2.06.94-2.06 2.06-.94-2.06-.94-.94-2.06-.94 2.06-2.06.94z\"/><path d=\"M17.41 7.96l-1.37-1.37c-.4-.4-.92-.59-1.43-.59-.52 0-1.04.2-1.43.59L10.3 9.45l-7.72 7.72c-.78.78-.78 2.05 0 2.83L4 21.41c.39.39.9.59 1.41.59.51 0 1.02-.2 1.41-.59l7.78-7.78 2.81-2.81c.8-.78.8-2.07 0-2.86zM5.41 20L4 18.59l7.72-7.72 1.47 1.35L5.41 20z\"/>\n",
              "  </svg>\n",
              "      </button>\n",
              "      \n",
              "  <style>\n",
              "    .colab-df-container {\n",
              "      display:flex;\n",
              "      flex-wrap:wrap;\n",
              "      gap: 12px;\n",
              "    }\n",
              "\n",
              "    .colab-df-convert {\n",
              "      background-color: #E8F0FE;\n",
              "      border: none;\n",
              "      border-radius: 50%;\n",
              "      cursor: pointer;\n",
              "      display: none;\n",
              "      fill: #1967D2;\n",
              "      height: 32px;\n",
              "      padding: 0 0 0 0;\n",
              "      width: 32px;\n",
              "    }\n",
              "\n",
              "    .colab-df-convert:hover {\n",
              "      background-color: #E2EBFA;\n",
              "      box-shadow: 0px 1px 2px rgba(60, 64, 67, 0.3), 0px 1px 3px 1px rgba(60, 64, 67, 0.15);\n",
              "      fill: #174EA6;\n",
              "    }\n",
              "\n",
              "    [theme=dark] .colab-df-convert {\n",
              "      background-color: #3B4455;\n",
              "      fill: #D2E3FC;\n",
              "    }\n",
              "\n",
              "    [theme=dark] .colab-df-convert:hover {\n",
              "      background-color: #434B5C;\n",
              "      box-shadow: 0px 1px 3px 1px rgba(0, 0, 0, 0.15);\n",
              "      filter: drop-shadow(0px 1px 2px rgba(0, 0, 0, 0.3));\n",
              "      fill: #FFFFFF;\n",
              "    }\n",
              "  </style>\n",
              "\n",
              "      <script>\n",
              "        const buttonEl =\n",
              "          document.querySelector('#df-c2341580-38dd-4102-ac8b-b6cb62363cc2 button.colab-df-convert');\n",
              "        buttonEl.style.display =\n",
              "          google.colab.kernel.accessAllowed ? 'block' : 'none';\n",
              "\n",
              "        async function convertToInteractive(key) {\n",
              "          const element = document.querySelector('#df-c2341580-38dd-4102-ac8b-b6cb62363cc2');\n",
              "          const dataTable =\n",
              "            await google.colab.kernel.invokeFunction('convertToInteractive',\n",
              "                                                     [key], {});\n",
              "          if (!dataTable) return;\n",
              "\n",
              "          const docLinkHtml = 'Like what you see? Visit the ' +\n",
              "            '<a target=\"_blank\" href=https://colab.research.google.com/notebooks/data_table.ipynb>data table notebook</a>'\n",
              "            + ' to learn more about interactive tables.';\n",
              "          element.innerHTML = '';\n",
              "          dataTable['output_type'] = 'display_data';\n",
              "          await google.colab.output.renderOutput(dataTable, element);\n",
              "          const docLink = document.createElement('div');\n",
              "          docLink.innerHTML = docLinkHtml;\n",
              "          element.appendChild(docLink);\n",
              "        }\n",
              "      </script>\n",
              "    </div>\n",
              "  </div>\n",
              "  "
            ]
          },
          "metadata": {},
          "execution_count": 18
        }
      ],
      "source": [
        "countries_df[\"total_life_exp\"] = countries_df[\"population\"] * countries_df[\"life_expectancy\"]\n",
        "countries_df.head()"
      ]
    },
    {
      "cell_type": "code",
      "execution_count": 19,
      "metadata": {
        "colab": {
          "base_uri": "https://localhost:8080/"
        },
        "id": "dakdECC3AAUW",
        "outputId": "2fc17a8d-e0ec-4fd8-f75f-87f4063f5edf"
      },
      "outputs": [
        {
          "output_type": "stream",
          "name": "stdout",
          "text": [
            "The  overall life expectancy across in the world is 72.72.\n"
          ]
        }
      ],
      "source": [
        "life_expectancy = countries_df[\"total_life_exp\"].sum() / total_population\n",
        "countries_df = countries_df.drop([\"total_life_exp\"], axis=1)\n",
        "print('The  overall life expectancy across in the world is {:.2f}.'.format(life_expectancy))"
      ]
    },
    {
      "cell_type": "code",
      "execution_count": 20,
      "metadata": {
        "colab": {
          "base_uri": "https://localhost:8080/"
        },
        "id": "ra5sfHlUAAUW",
        "outputId": "5560effd-4136-4311-f88c-152483b79ae1"
      },
      "outputs": [
        {
          "output_type": "stream",
          "name": "stdout",
          "text": [
            "[jovian] Detected Colab notebook...\u001b[0m\n",
            "[jovian] jovian.commit() is no longer required on Google Colab. If you ran this notebook from Jovian, \n",
            "then just save this file in Colab using Ctrl+S/Cmd+S and it will be updated on Jovian. \n",
            "Also, you can also delete this cell, it's no longer necessary.\u001b[0m\n"
          ]
        }
      ],
      "source": [
        "jovian.commit(project='pandas-practice-assignment', environment=None)"
      ]
    },
    {
      "cell_type": "markdown",
      "metadata": {
        "id": "gkSriqkuAAUX"
      },
      "source": [
        "**Q4: Create a dataframe containing 10 countries with the highest population.**\n",
        "\n",
        "*Hint: Chain the `sort_values` and `head` methods.*"
      ]
    },
    {
      "cell_type": "code",
      "execution_count": 21,
      "metadata": {
        "id": "L0R0Y_4aAAUX"
      },
      "outputs": [],
      "source": [
        "most_populous_df = countries_df.sort_values([\"population\"], ascending=False).head(10)"
      ]
    },
    {
      "cell_type": "code",
      "execution_count": 22,
      "metadata": {
        "colab": {
          "base_uri": "https://localhost:8080/",
          "height": 363
        },
        "id": "JhotismuAAUX",
        "outputId": "2aad6ae3-ec16-455a-db12-b08010bbcb2a"
      },
      "outputs": [
        {
          "output_type": "execute_result",
          "data": {
            "text/plain": [
              "          location      continent    population  life_expectancy  \\\n",
              "41           China           Asia  1.439324e+09            76.91   \n",
              "90           India           Asia  1.380004e+09            69.66   \n",
              "199  United States  North America  3.310026e+08            78.86   \n",
              "91       Indonesia           Asia  2.735236e+08            71.72   \n",
              "145       Pakistan           Asia  2.208923e+08            67.27   \n",
              "27          Brazil  South America  2.125594e+08            75.88   \n",
              "141        Nigeria         Africa  2.061396e+08            54.69   \n",
              "15      Bangladesh           Asia  1.646894e+08            72.59   \n",
              "157         Russia         Europe  1.459345e+08            72.58   \n",
              "125         Mexico  North America  1.289328e+08            75.05   \n",
              "\n",
              "     hospital_beds_per_thousand  gdp_per_capita  \n",
              "41                         4.34       15308.712  \n",
              "90                         0.53        6426.674  \n",
              "199                        2.77       54225.446  \n",
              "91                         1.04       11188.744  \n",
              "145                        0.60        5034.708  \n",
              "27                         2.20       14103.452  \n",
              "141                         NaN        5338.454  \n",
              "15                         0.80        3523.984  \n",
              "157                        8.05       24765.954  \n",
              "125                        1.38       17336.469  "
            ],
            "text/html": [
              "\n",
              "  <div id=\"df-dbb8e119-eafc-4760-bcad-bcd6a22d1117\">\n",
              "    <div class=\"colab-df-container\">\n",
              "      <div>\n",
              "<style scoped>\n",
              "    .dataframe tbody tr th:only-of-type {\n",
              "        vertical-align: middle;\n",
              "    }\n",
              "\n",
              "    .dataframe tbody tr th {\n",
              "        vertical-align: top;\n",
              "    }\n",
              "\n",
              "    .dataframe thead th {\n",
              "        text-align: right;\n",
              "    }\n",
              "</style>\n",
              "<table border=\"1\" class=\"dataframe\">\n",
              "  <thead>\n",
              "    <tr style=\"text-align: right;\">\n",
              "      <th></th>\n",
              "      <th>location</th>\n",
              "      <th>continent</th>\n",
              "      <th>population</th>\n",
              "      <th>life_expectancy</th>\n",
              "      <th>hospital_beds_per_thousand</th>\n",
              "      <th>gdp_per_capita</th>\n",
              "    </tr>\n",
              "  </thead>\n",
              "  <tbody>\n",
              "    <tr>\n",
              "      <th>41</th>\n",
              "      <td>China</td>\n",
              "      <td>Asia</td>\n",
              "      <td>1.439324e+09</td>\n",
              "      <td>76.91</td>\n",
              "      <td>4.34</td>\n",
              "      <td>15308.712</td>\n",
              "    </tr>\n",
              "    <tr>\n",
              "      <th>90</th>\n",
              "      <td>India</td>\n",
              "      <td>Asia</td>\n",
              "      <td>1.380004e+09</td>\n",
              "      <td>69.66</td>\n",
              "      <td>0.53</td>\n",
              "      <td>6426.674</td>\n",
              "    </tr>\n",
              "    <tr>\n",
              "      <th>199</th>\n",
              "      <td>United States</td>\n",
              "      <td>North America</td>\n",
              "      <td>3.310026e+08</td>\n",
              "      <td>78.86</td>\n",
              "      <td>2.77</td>\n",
              "      <td>54225.446</td>\n",
              "    </tr>\n",
              "    <tr>\n",
              "      <th>91</th>\n",
              "      <td>Indonesia</td>\n",
              "      <td>Asia</td>\n",
              "      <td>2.735236e+08</td>\n",
              "      <td>71.72</td>\n",
              "      <td>1.04</td>\n",
              "      <td>11188.744</td>\n",
              "    </tr>\n",
              "    <tr>\n",
              "      <th>145</th>\n",
              "      <td>Pakistan</td>\n",
              "      <td>Asia</td>\n",
              "      <td>2.208923e+08</td>\n",
              "      <td>67.27</td>\n",
              "      <td>0.60</td>\n",
              "      <td>5034.708</td>\n",
              "    </tr>\n",
              "    <tr>\n",
              "      <th>27</th>\n",
              "      <td>Brazil</td>\n",
              "      <td>South America</td>\n",
              "      <td>2.125594e+08</td>\n",
              "      <td>75.88</td>\n",
              "      <td>2.20</td>\n",
              "      <td>14103.452</td>\n",
              "    </tr>\n",
              "    <tr>\n",
              "      <th>141</th>\n",
              "      <td>Nigeria</td>\n",
              "      <td>Africa</td>\n",
              "      <td>2.061396e+08</td>\n",
              "      <td>54.69</td>\n",
              "      <td>NaN</td>\n",
              "      <td>5338.454</td>\n",
              "    </tr>\n",
              "    <tr>\n",
              "      <th>15</th>\n",
              "      <td>Bangladesh</td>\n",
              "      <td>Asia</td>\n",
              "      <td>1.646894e+08</td>\n",
              "      <td>72.59</td>\n",
              "      <td>0.80</td>\n",
              "      <td>3523.984</td>\n",
              "    </tr>\n",
              "    <tr>\n",
              "      <th>157</th>\n",
              "      <td>Russia</td>\n",
              "      <td>Europe</td>\n",
              "      <td>1.459345e+08</td>\n",
              "      <td>72.58</td>\n",
              "      <td>8.05</td>\n",
              "      <td>24765.954</td>\n",
              "    </tr>\n",
              "    <tr>\n",
              "      <th>125</th>\n",
              "      <td>Mexico</td>\n",
              "      <td>North America</td>\n",
              "      <td>1.289328e+08</td>\n",
              "      <td>75.05</td>\n",
              "      <td>1.38</td>\n",
              "      <td>17336.469</td>\n",
              "    </tr>\n",
              "  </tbody>\n",
              "</table>\n",
              "</div>\n",
              "      <button class=\"colab-df-convert\" onclick=\"convertToInteractive('df-dbb8e119-eafc-4760-bcad-bcd6a22d1117')\"\n",
              "              title=\"Convert this dataframe to an interactive table.\"\n",
              "              style=\"display:none;\">\n",
              "        \n",
              "  <svg xmlns=\"http://www.w3.org/2000/svg\" height=\"24px\"viewBox=\"0 0 24 24\"\n",
              "       width=\"24px\">\n",
              "    <path d=\"M0 0h24v24H0V0z\" fill=\"none\"/>\n",
              "    <path d=\"M18.56 5.44l.94 2.06.94-2.06 2.06-.94-2.06-.94-.94-2.06-.94 2.06-2.06.94zm-11 1L8.5 8.5l.94-2.06 2.06-.94-2.06-.94L8.5 2.5l-.94 2.06-2.06.94zm10 10l.94 2.06.94-2.06 2.06-.94-2.06-.94-.94-2.06-.94 2.06-2.06.94z\"/><path d=\"M17.41 7.96l-1.37-1.37c-.4-.4-.92-.59-1.43-.59-.52 0-1.04.2-1.43.59L10.3 9.45l-7.72 7.72c-.78.78-.78 2.05 0 2.83L4 21.41c.39.39.9.59 1.41.59.51 0 1.02-.2 1.41-.59l7.78-7.78 2.81-2.81c.8-.78.8-2.07 0-2.86zM5.41 20L4 18.59l7.72-7.72 1.47 1.35L5.41 20z\"/>\n",
              "  </svg>\n",
              "      </button>\n",
              "      \n",
              "  <style>\n",
              "    .colab-df-container {\n",
              "      display:flex;\n",
              "      flex-wrap:wrap;\n",
              "      gap: 12px;\n",
              "    }\n",
              "\n",
              "    .colab-df-convert {\n",
              "      background-color: #E8F0FE;\n",
              "      border: none;\n",
              "      border-radius: 50%;\n",
              "      cursor: pointer;\n",
              "      display: none;\n",
              "      fill: #1967D2;\n",
              "      height: 32px;\n",
              "      padding: 0 0 0 0;\n",
              "      width: 32px;\n",
              "    }\n",
              "\n",
              "    .colab-df-convert:hover {\n",
              "      background-color: #E2EBFA;\n",
              "      box-shadow: 0px 1px 2px rgba(60, 64, 67, 0.3), 0px 1px 3px 1px rgba(60, 64, 67, 0.15);\n",
              "      fill: #174EA6;\n",
              "    }\n",
              "\n",
              "    [theme=dark] .colab-df-convert {\n",
              "      background-color: #3B4455;\n",
              "      fill: #D2E3FC;\n",
              "    }\n",
              "\n",
              "    [theme=dark] .colab-df-convert:hover {\n",
              "      background-color: #434B5C;\n",
              "      box-shadow: 0px 1px 3px 1px rgba(0, 0, 0, 0.15);\n",
              "      filter: drop-shadow(0px 1px 2px rgba(0, 0, 0, 0.3));\n",
              "      fill: #FFFFFF;\n",
              "    }\n",
              "  </style>\n",
              "\n",
              "      <script>\n",
              "        const buttonEl =\n",
              "          document.querySelector('#df-dbb8e119-eafc-4760-bcad-bcd6a22d1117 button.colab-df-convert');\n",
              "        buttonEl.style.display =\n",
              "          google.colab.kernel.accessAllowed ? 'block' : 'none';\n",
              "\n",
              "        async function convertToInteractive(key) {\n",
              "          const element = document.querySelector('#df-dbb8e119-eafc-4760-bcad-bcd6a22d1117');\n",
              "          const dataTable =\n",
              "            await google.colab.kernel.invokeFunction('convertToInteractive',\n",
              "                                                     [key], {});\n",
              "          if (!dataTable) return;\n",
              "\n",
              "          const docLinkHtml = 'Like what you see? Visit the ' +\n",
              "            '<a target=\"_blank\" href=https://colab.research.google.com/notebooks/data_table.ipynb>data table notebook</a>'\n",
              "            + ' to learn more about interactive tables.';\n",
              "          element.innerHTML = '';\n",
              "          dataTable['output_type'] = 'display_data';\n",
              "          await google.colab.output.renderOutput(dataTable, element);\n",
              "          const docLink = document.createElement('div');\n",
              "          docLink.innerHTML = docLinkHtml;\n",
              "          element.appendChild(docLink);\n",
              "        }\n",
              "      </script>\n",
              "    </div>\n",
              "  </div>\n",
              "  "
            ]
          },
          "metadata": {},
          "execution_count": 22
        }
      ],
      "source": [
        "most_populous_df"
      ]
    },
    {
      "cell_type": "code",
      "execution_count": 23,
      "metadata": {
        "colab": {
          "base_uri": "https://localhost:8080/"
        },
        "id": "PYs1UhYEAAUX",
        "outputId": "c4ae3e8e-c5ba-4cbc-d61f-b6804907e470"
      },
      "outputs": [
        {
          "output_type": "stream",
          "name": "stdout",
          "text": [
            "[jovian] Detected Colab notebook...\u001b[0m\n",
            "[jovian] jovian.commit() is no longer required on Google Colab. If you ran this notebook from Jovian, \n",
            "then just save this file in Colab using Ctrl+S/Cmd+S and it will be updated on Jovian. \n",
            "Also, you can also delete this cell, it's no longer necessary.\u001b[0m\n"
          ]
        }
      ],
      "source": [
        "jovian.commit(project='pandas-practice-assignment', environment=None)"
      ]
    },
    {
      "cell_type": "markdown",
      "metadata": {
        "id": "vVdz_yzxAAUX"
      },
      "source": [
        "**Q5: Add a new column in `countries_df` to record the overall GDP per country (product of population & per capita GDP).**\n",
        "\n"
      ]
    },
    {
      "cell_type": "code",
      "execution_count": 24,
      "metadata": {
        "id": "NA_D8vCxAAUX"
      },
      "outputs": [],
      "source": [
        "countries_df['gdp'] = countries_df[\"population\"]*countries_df[\"gdp_per_capita\"]"
      ]
    },
    {
      "cell_type": "code",
      "execution_count": 25,
      "metadata": {
        "colab": {
          "base_uri": "https://localhost:8080/",
          "height": 424
        },
        "id": "L40yW9gDAAUY",
        "outputId": "e6537575-a5d2-4e25-899c-857d0c11b1aa"
      },
      "outputs": [
        {
          "output_type": "execute_result",
          "data": {
            "text/plain": [
              "           location continent  population  life_expectancy  \\\n",
              "0       Afghanistan      Asia  38928341.0            64.83   \n",
              "1           Albania    Europe   2877800.0            78.57   \n",
              "2           Algeria    Africa  43851043.0            76.88   \n",
              "3           Andorra    Europe     77265.0            83.73   \n",
              "4            Angola    Africa  32866268.0            61.15   \n",
              "..              ...       ...         ...              ...   \n",
              "205         Vietnam      Asia  97338583.0            75.40   \n",
              "206  Western Sahara    Africa    597330.0            70.26   \n",
              "207           Yemen      Asia  29825968.0            66.12   \n",
              "208          Zambia    Africa  18383956.0            63.89   \n",
              "209        Zimbabwe    Africa  14862927.0            61.49   \n",
              "\n",
              "     hospital_beds_per_thousand  gdp_per_capita           gdp  \n",
              "0                          0.50        1803.987  7.022622e+10  \n",
              "1                          2.89       11803.431  3.396791e+10  \n",
              "2                          1.90       13913.839  6.101364e+11  \n",
              "3                           NaN             NaN           NaN  \n",
              "4                           NaN        5819.495  1.912651e+11  \n",
              "..                          ...             ...           ...  \n",
              "205                        2.60        6171.884  6.007624e+11  \n",
              "206                         NaN             NaN           NaN  \n",
              "207                        0.70        1479.147  4.411699e+10  \n",
              "208                        2.00        3689.251  6.782303e+10  \n",
              "209                        1.70        1899.775  2.823622e+10  \n",
              "\n",
              "[210 rows x 7 columns]"
            ],
            "text/html": [
              "\n",
              "  <div id=\"df-e20432d2-9ae8-435f-ab68-90cb217dc325\">\n",
              "    <div class=\"colab-df-container\">\n",
              "      <div>\n",
              "<style scoped>\n",
              "    .dataframe tbody tr th:only-of-type {\n",
              "        vertical-align: middle;\n",
              "    }\n",
              "\n",
              "    .dataframe tbody tr th {\n",
              "        vertical-align: top;\n",
              "    }\n",
              "\n",
              "    .dataframe thead th {\n",
              "        text-align: right;\n",
              "    }\n",
              "</style>\n",
              "<table border=\"1\" class=\"dataframe\">\n",
              "  <thead>\n",
              "    <tr style=\"text-align: right;\">\n",
              "      <th></th>\n",
              "      <th>location</th>\n",
              "      <th>continent</th>\n",
              "      <th>population</th>\n",
              "      <th>life_expectancy</th>\n",
              "      <th>hospital_beds_per_thousand</th>\n",
              "      <th>gdp_per_capita</th>\n",
              "      <th>gdp</th>\n",
              "    </tr>\n",
              "  </thead>\n",
              "  <tbody>\n",
              "    <tr>\n",
              "      <th>0</th>\n",
              "      <td>Afghanistan</td>\n",
              "      <td>Asia</td>\n",
              "      <td>38928341.0</td>\n",
              "      <td>64.83</td>\n",
              "      <td>0.50</td>\n",
              "      <td>1803.987</td>\n",
              "      <td>7.022622e+10</td>\n",
              "    </tr>\n",
              "    <tr>\n",
              "      <th>1</th>\n",
              "      <td>Albania</td>\n",
              "      <td>Europe</td>\n",
              "      <td>2877800.0</td>\n",
              "      <td>78.57</td>\n",
              "      <td>2.89</td>\n",
              "      <td>11803.431</td>\n",
              "      <td>3.396791e+10</td>\n",
              "    </tr>\n",
              "    <tr>\n",
              "      <th>2</th>\n",
              "      <td>Algeria</td>\n",
              "      <td>Africa</td>\n",
              "      <td>43851043.0</td>\n",
              "      <td>76.88</td>\n",
              "      <td>1.90</td>\n",
              "      <td>13913.839</td>\n",
              "      <td>6.101364e+11</td>\n",
              "    </tr>\n",
              "    <tr>\n",
              "      <th>3</th>\n",
              "      <td>Andorra</td>\n",
              "      <td>Europe</td>\n",
              "      <td>77265.0</td>\n",
              "      <td>83.73</td>\n",
              "      <td>NaN</td>\n",
              "      <td>NaN</td>\n",
              "      <td>NaN</td>\n",
              "    </tr>\n",
              "    <tr>\n",
              "      <th>4</th>\n",
              "      <td>Angola</td>\n",
              "      <td>Africa</td>\n",
              "      <td>32866268.0</td>\n",
              "      <td>61.15</td>\n",
              "      <td>NaN</td>\n",
              "      <td>5819.495</td>\n",
              "      <td>1.912651e+11</td>\n",
              "    </tr>\n",
              "    <tr>\n",
              "      <th>...</th>\n",
              "      <td>...</td>\n",
              "      <td>...</td>\n",
              "      <td>...</td>\n",
              "      <td>...</td>\n",
              "      <td>...</td>\n",
              "      <td>...</td>\n",
              "      <td>...</td>\n",
              "    </tr>\n",
              "    <tr>\n",
              "      <th>205</th>\n",
              "      <td>Vietnam</td>\n",
              "      <td>Asia</td>\n",
              "      <td>97338583.0</td>\n",
              "      <td>75.40</td>\n",
              "      <td>2.60</td>\n",
              "      <td>6171.884</td>\n",
              "      <td>6.007624e+11</td>\n",
              "    </tr>\n",
              "    <tr>\n",
              "      <th>206</th>\n",
              "      <td>Western Sahara</td>\n",
              "      <td>Africa</td>\n",
              "      <td>597330.0</td>\n",
              "      <td>70.26</td>\n",
              "      <td>NaN</td>\n",
              "      <td>NaN</td>\n",
              "      <td>NaN</td>\n",
              "    </tr>\n",
              "    <tr>\n",
              "      <th>207</th>\n",
              "      <td>Yemen</td>\n",
              "      <td>Asia</td>\n",
              "      <td>29825968.0</td>\n",
              "      <td>66.12</td>\n",
              "      <td>0.70</td>\n",
              "      <td>1479.147</td>\n",
              "      <td>4.411699e+10</td>\n",
              "    </tr>\n",
              "    <tr>\n",
              "      <th>208</th>\n",
              "      <td>Zambia</td>\n",
              "      <td>Africa</td>\n",
              "      <td>18383956.0</td>\n",
              "      <td>63.89</td>\n",
              "      <td>2.00</td>\n",
              "      <td>3689.251</td>\n",
              "      <td>6.782303e+10</td>\n",
              "    </tr>\n",
              "    <tr>\n",
              "      <th>209</th>\n",
              "      <td>Zimbabwe</td>\n",
              "      <td>Africa</td>\n",
              "      <td>14862927.0</td>\n",
              "      <td>61.49</td>\n",
              "      <td>1.70</td>\n",
              "      <td>1899.775</td>\n",
              "      <td>2.823622e+10</td>\n",
              "    </tr>\n",
              "  </tbody>\n",
              "</table>\n",
              "<p>210 rows × 7 columns</p>\n",
              "</div>\n",
              "      <button class=\"colab-df-convert\" onclick=\"convertToInteractive('df-e20432d2-9ae8-435f-ab68-90cb217dc325')\"\n",
              "              title=\"Convert this dataframe to an interactive table.\"\n",
              "              style=\"display:none;\">\n",
              "        \n",
              "  <svg xmlns=\"http://www.w3.org/2000/svg\" height=\"24px\"viewBox=\"0 0 24 24\"\n",
              "       width=\"24px\">\n",
              "    <path d=\"M0 0h24v24H0V0z\" fill=\"none\"/>\n",
              "    <path d=\"M18.56 5.44l.94 2.06.94-2.06 2.06-.94-2.06-.94-.94-2.06-.94 2.06-2.06.94zm-11 1L8.5 8.5l.94-2.06 2.06-.94-2.06-.94L8.5 2.5l-.94 2.06-2.06.94zm10 10l.94 2.06.94-2.06 2.06-.94-2.06-.94-.94-2.06-.94 2.06-2.06.94z\"/><path d=\"M17.41 7.96l-1.37-1.37c-.4-.4-.92-.59-1.43-.59-.52 0-1.04.2-1.43.59L10.3 9.45l-7.72 7.72c-.78.78-.78 2.05 0 2.83L4 21.41c.39.39.9.59 1.41.59.51 0 1.02-.2 1.41-.59l7.78-7.78 2.81-2.81c.8-.78.8-2.07 0-2.86zM5.41 20L4 18.59l7.72-7.72 1.47 1.35L5.41 20z\"/>\n",
              "  </svg>\n",
              "      </button>\n",
              "      \n",
              "  <style>\n",
              "    .colab-df-container {\n",
              "      display:flex;\n",
              "      flex-wrap:wrap;\n",
              "      gap: 12px;\n",
              "    }\n",
              "\n",
              "    .colab-df-convert {\n",
              "      background-color: #E8F0FE;\n",
              "      border: none;\n",
              "      border-radius: 50%;\n",
              "      cursor: pointer;\n",
              "      display: none;\n",
              "      fill: #1967D2;\n",
              "      height: 32px;\n",
              "      padding: 0 0 0 0;\n",
              "      width: 32px;\n",
              "    }\n",
              "\n",
              "    .colab-df-convert:hover {\n",
              "      background-color: #E2EBFA;\n",
              "      box-shadow: 0px 1px 2px rgba(60, 64, 67, 0.3), 0px 1px 3px 1px rgba(60, 64, 67, 0.15);\n",
              "      fill: #174EA6;\n",
              "    }\n",
              "\n",
              "    [theme=dark] .colab-df-convert {\n",
              "      background-color: #3B4455;\n",
              "      fill: #D2E3FC;\n",
              "    }\n",
              "\n",
              "    [theme=dark] .colab-df-convert:hover {\n",
              "      background-color: #434B5C;\n",
              "      box-shadow: 0px 1px 3px 1px rgba(0, 0, 0, 0.15);\n",
              "      filter: drop-shadow(0px 1px 2px rgba(0, 0, 0, 0.3));\n",
              "      fill: #FFFFFF;\n",
              "    }\n",
              "  </style>\n",
              "\n",
              "      <script>\n",
              "        const buttonEl =\n",
              "          document.querySelector('#df-e20432d2-9ae8-435f-ab68-90cb217dc325 button.colab-df-convert');\n",
              "        buttonEl.style.display =\n",
              "          google.colab.kernel.accessAllowed ? 'block' : 'none';\n",
              "\n",
              "        async function convertToInteractive(key) {\n",
              "          const element = document.querySelector('#df-e20432d2-9ae8-435f-ab68-90cb217dc325');\n",
              "          const dataTable =\n",
              "            await google.colab.kernel.invokeFunction('convertToInteractive',\n",
              "                                                     [key], {});\n",
              "          if (!dataTable) return;\n",
              "\n",
              "          const docLinkHtml = 'Like what you see? Visit the ' +\n",
              "            '<a target=\"_blank\" href=https://colab.research.google.com/notebooks/data_table.ipynb>data table notebook</a>'\n",
              "            + ' to learn more about interactive tables.';\n",
              "          element.innerHTML = '';\n",
              "          dataTable['output_type'] = 'display_data';\n",
              "          await google.colab.output.renderOutput(dataTable, element);\n",
              "          const docLink = document.createElement('div');\n",
              "          docLink.innerHTML = docLinkHtml;\n",
              "          element.appendChild(docLink);\n",
              "        }\n",
              "      </script>\n",
              "    </div>\n",
              "  </div>\n",
              "  "
            ]
          },
          "metadata": {},
          "execution_count": 25
        }
      ],
      "source": [
        "countries_df"
      ]
    },
    {
      "cell_type": "code",
      "execution_count": 26,
      "metadata": {
        "colab": {
          "base_uri": "https://localhost:8080/"
        },
        "id": "3HA_8eWbAAUY",
        "outputId": "4d0fa410-3550-4149-ad48-eef8bd30d8bf"
      },
      "outputs": [
        {
          "output_type": "stream",
          "name": "stdout",
          "text": [
            "[jovian] Detected Colab notebook...\u001b[0m\n",
            "[jovian] jovian.commit() is no longer required on Google Colab. If you ran this notebook from Jovian, \n",
            "then just save this file in Colab using Ctrl+S/Cmd+S and it will be updated on Jovian. \n",
            "Also, you can also delete this cell, it's no longer necessary.\u001b[0m\n"
          ]
        }
      ],
      "source": [
        "jovian.commit(project='pandas-practice-assignment', environment=None)"
      ]
    },
    {
      "cell_type": "markdown",
      "metadata": {
        "id": "lwre4YSkAAUY"
      },
      "source": [
        "**Q: (Optional) Create a dataframe containing 10 countries with the lowest GDP per capita, among the counties with population greater than 100 million.**"
      ]
    },
    {
      "cell_type": "code",
      "execution_count": 27,
      "metadata": {
        "id": "FHT5GIxbAAUY"
      },
      "outputs": [],
      "source": [
        "countries_df_100 = countries_df[countries_df[\"population\"] > 100000000].sort_values([\"gdp_per_capita\"]).head(10)\n"
      ]
    },
    {
      "cell_type": "code",
      "execution_count": 28,
      "metadata": {
        "colab": {
          "base_uri": "https://localhost:8080/",
          "height": 363
        },
        "id": "2eiY5QmyAAUZ",
        "outputId": "2afdbb49-3477-4979-a3fe-fa771b879785"
      },
      "outputs": [
        {
          "output_type": "execute_result",
          "data": {
            "text/plain": [
              "        location      continent    population  life_expectancy  \\\n",
              "63      Ethiopia         Africa  1.149636e+08            66.60   \n",
              "15    Bangladesh           Asia  1.646894e+08            72.59   \n",
              "145     Pakistan           Asia  2.208923e+08            67.27   \n",
              "141      Nigeria         Africa  2.061396e+08            54.69   \n",
              "90         India           Asia  1.380004e+09            69.66   \n",
              "151  Philippines           Asia  1.095811e+08            71.23   \n",
              "58         Egypt         Africa  1.023344e+08            71.99   \n",
              "91     Indonesia           Asia  2.735236e+08            71.72   \n",
              "27        Brazil  South America  2.125594e+08            75.88   \n",
              "41         China           Asia  1.439324e+09            76.91   \n",
              "\n",
              "     hospital_beds_per_thousand  gdp_per_capita           gdp  \n",
              "63                         0.30        1729.927  1.988786e+11  \n",
              "15                         0.80        3523.984  5.803628e+11  \n",
              "145                        0.60        5034.708  1.112128e+12  \n",
              "141                         NaN        5338.454  1.100467e+12  \n",
              "90                         0.53        6426.674  8.868838e+12  \n",
              "151                        1.00        7599.188  8.327273e+11  \n",
              "58                         1.60       10550.206  1.079649e+12  \n",
              "91                         1.04       11188.744  3.060386e+12  \n",
              "27                         2.20       14103.452  2.997821e+12  \n",
              "41                         4.34       15308.712  2.203419e+13  "
            ],
            "text/html": [
              "\n",
              "  <div id=\"df-da4b20ca-c79f-4a48-80f1-d54e18d6cdd8\">\n",
              "    <div class=\"colab-df-container\">\n",
              "      <div>\n",
              "<style scoped>\n",
              "    .dataframe tbody tr th:only-of-type {\n",
              "        vertical-align: middle;\n",
              "    }\n",
              "\n",
              "    .dataframe tbody tr th {\n",
              "        vertical-align: top;\n",
              "    }\n",
              "\n",
              "    .dataframe thead th {\n",
              "        text-align: right;\n",
              "    }\n",
              "</style>\n",
              "<table border=\"1\" class=\"dataframe\">\n",
              "  <thead>\n",
              "    <tr style=\"text-align: right;\">\n",
              "      <th></th>\n",
              "      <th>location</th>\n",
              "      <th>continent</th>\n",
              "      <th>population</th>\n",
              "      <th>life_expectancy</th>\n",
              "      <th>hospital_beds_per_thousand</th>\n",
              "      <th>gdp_per_capita</th>\n",
              "      <th>gdp</th>\n",
              "    </tr>\n",
              "  </thead>\n",
              "  <tbody>\n",
              "    <tr>\n",
              "      <th>63</th>\n",
              "      <td>Ethiopia</td>\n",
              "      <td>Africa</td>\n",
              "      <td>1.149636e+08</td>\n",
              "      <td>66.60</td>\n",
              "      <td>0.30</td>\n",
              "      <td>1729.927</td>\n",
              "      <td>1.988786e+11</td>\n",
              "    </tr>\n",
              "    <tr>\n",
              "      <th>15</th>\n",
              "      <td>Bangladesh</td>\n",
              "      <td>Asia</td>\n",
              "      <td>1.646894e+08</td>\n",
              "      <td>72.59</td>\n",
              "      <td>0.80</td>\n",
              "      <td>3523.984</td>\n",
              "      <td>5.803628e+11</td>\n",
              "    </tr>\n",
              "    <tr>\n",
              "      <th>145</th>\n",
              "      <td>Pakistan</td>\n",
              "      <td>Asia</td>\n",
              "      <td>2.208923e+08</td>\n",
              "      <td>67.27</td>\n",
              "      <td>0.60</td>\n",
              "      <td>5034.708</td>\n",
              "      <td>1.112128e+12</td>\n",
              "    </tr>\n",
              "    <tr>\n",
              "      <th>141</th>\n",
              "      <td>Nigeria</td>\n",
              "      <td>Africa</td>\n",
              "      <td>2.061396e+08</td>\n",
              "      <td>54.69</td>\n",
              "      <td>NaN</td>\n",
              "      <td>5338.454</td>\n",
              "      <td>1.100467e+12</td>\n",
              "    </tr>\n",
              "    <tr>\n",
              "      <th>90</th>\n",
              "      <td>India</td>\n",
              "      <td>Asia</td>\n",
              "      <td>1.380004e+09</td>\n",
              "      <td>69.66</td>\n",
              "      <td>0.53</td>\n",
              "      <td>6426.674</td>\n",
              "      <td>8.868838e+12</td>\n",
              "    </tr>\n",
              "    <tr>\n",
              "      <th>151</th>\n",
              "      <td>Philippines</td>\n",
              "      <td>Asia</td>\n",
              "      <td>1.095811e+08</td>\n",
              "      <td>71.23</td>\n",
              "      <td>1.00</td>\n",
              "      <td>7599.188</td>\n",
              "      <td>8.327273e+11</td>\n",
              "    </tr>\n",
              "    <tr>\n",
              "      <th>58</th>\n",
              "      <td>Egypt</td>\n",
              "      <td>Africa</td>\n",
              "      <td>1.023344e+08</td>\n",
              "      <td>71.99</td>\n",
              "      <td>1.60</td>\n",
              "      <td>10550.206</td>\n",
              "      <td>1.079649e+12</td>\n",
              "    </tr>\n",
              "    <tr>\n",
              "      <th>91</th>\n",
              "      <td>Indonesia</td>\n",
              "      <td>Asia</td>\n",
              "      <td>2.735236e+08</td>\n",
              "      <td>71.72</td>\n",
              "      <td>1.04</td>\n",
              "      <td>11188.744</td>\n",
              "      <td>3.060386e+12</td>\n",
              "    </tr>\n",
              "    <tr>\n",
              "      <th>27</th>\n",
              "      <td>Brazil</td>\n",
              "      <td>South America</td>\n",
              "      <td>2.125594e+08</td>\n",
              "      <td>75.88</td>\n",
              "      <td>2.20</td>\n",
              "      <td>14103.452</td>\n",
              "      <td>2.997821e+12</td>\n",
              "    </tr>\n",
              "    <tr>\n",
              "      <th>41</th>\n",
              "      <td>China</td>\n",
              "      <td>Asia</td>\n",
              "      <td>1.439324e+09</td>\n",
              "      <td>76.91</td>\n",
              "      <td>4.34</td>\n",
              "      <td>15308.712</td>\n",
              "      <td>2.203419e+13</td>\n",
              "    </tr>\n",
              "  </tbody>\n",
              "</table>\n",
              "</div>\n",
              "      <button class=\"colab-df-convert\" onclick=\"convertToInteractive('df-da4b20ca-c79f-4a48-80f1-d54e18d6cdd8')\"\n",
              "              title=\"Convert this dataframe to an interactive table.\"\n",
              "              style=\"display:none;\">\n",
              "        \n",
              "  <svg xmlns=\"http://www.w3.org/2000/svg\" height=\"24px\"viewBox=\"0 0 24 24\"\n",
              "       width=\"24px\">\n",
              "    <path d=\"M0 0h24v24H0V0z\" fill=\"none\"/>\n",
              "    <path d=\"M18.56 5.44l.94 2.06.94-2.06 2.06-.94-2.06-.94-.94-2.06-.94 2.06-2.06.94zm-11 1L8.5 8.5l.94-2.06 2.06-.94-2.06-.94L8.5 2.5l-.94 2.06-2.06.94zm10 10l.94 2.06.94-2.06 2.06-.94-2.06-.94-.94-2.06-.94 2.06-2.06.94z\"/><path d=\"M17.41 7.96l-1.37-1.37c-.4-.4-.92-.59-1.43-.59-.52 0-1.04.2-1.43.59L10.3 9.45l-7.72 7.72c-.78.78-.78 2.05 0 2.83L4 21.41c.39.39.9.59 1.41.59.51 0 1.02-.2 1.41-.59l7.78-7.78 2.81-2.81c.8-.78.8-2.07 0-2.86zM5.41 20L4 18.59l7.72-7.72 1.47 1.35L5.41 20z\"/>\n",
              "  </svg>\n",
              "      </button>\n",
              "      \n",
              "  <style>\n",
              "    .colab-df-container {\n",
              "      display:flex;\n",
              "      flex-wrap:wrap;\n",
              "      gap: 12px;\n",
              "    }\n",
              "\n",
              "    .colab-df-convert {\n",
              "      background-color: #E8F0FE;\n",
              "      border: none;\n",
              "      border-radius: 50%;\n",
              "      cursor: pointer;\n",
              "      display: none;\n",
              "      fill: #1967D2;\n",
              "      height: 32px;\n",
              "      padding: 0 0 0 0;\n",
              "      width: 32px;\n",
              "    }\n",
              "\n",
              "    .colab-df-convert:hover {\n",
              "      background-color: #E2EBFA;\n",
              "      box-shadow: 0px 1px 2px rgba(60, 64, 67, 0.3), 0px 1px 3px 1px rgba(60, 64, 67, 0.15);\n",
              "      fill: #174EA6;\n",
              "    }\n",
              "\n",
              "    [theme=dark] .colab-df-convert {\n",
              "      background-color: #3B4455;\n",
              "      fill: #D2E3FC;\n",
              "    }\n",
              "\n",
              "    [theme=dark] .colab-df-convert:hover {\n",
              "      background-color: #434B5C;\n",
              "      box-shadow: 0px 1px 3px 1px rgba(0, 0, 0, 0.15);\n",
              "      filter: drop-shadow(0px 1px 2px rgba(0, 0, 0, 0.3));\n",
              "      fill: #FFFFFF;\n",
              "    }\n",
              "  </style>\n",
              "\n",
              "      <script>\n",
              "        const buttonEl =\n",
              "          document.querySelector('#df-da4b20ca-c79f-4a48-80f1-d54e18d6cdd8 button.colab-df-convert');\n",
              "        buttonEl.style.display =\n",
              "          google.colab.kernel.accessAllowed ? 'block' : 'none';\n",
              "\n",
              "        async function convertToInteractive(key) {\n",
              "          const element = document.querySelector('#df-da4b20ca-c79f-4a48-80f1-d54e18d6cdd8');\n",
              "          const dataTable =\n",
              "            await google.colab.kernel.invokeFunction('convertToInteractive',\n",
              "                                                     [key], {});\n",
              "          if (!dataTable) return;\n",
              "\n",
              "          const docLinkHtml = 'Like what you see? Visit the ' +\n",
              "            '<a target=\"_blank\" href=https://colab.research.google.com/notebooks/data_table.ipynb>data table notebook</a>'\n",
              "            + ' to learn more about interactive tables.';\n",
              "          element.innerHTML = '';\n",
              "          dataTable['output_type'] = 'display_data';\n",
              "          await google.colab.output.renderOutput(dataTable, element);\n",
              "          const docLink = document.createElement('div');\n",
              "          docLink.innerHTML = docLinkHtml;\n",
              "          element.appendChild(docLink);\n",
              "        }\n",
              "      </script>\n",
              "    </div>\n",
              "  </div>\n",
              "  "
            ]
          },
          "metadata": {},
          "execution_count": 28
        }
      ],
      "source": [
        "countries_df_100"
      ]
    },
    {
      "cell_type": "code",
      "execution_count": 29,
      "metadata": {
        "colab": {
          "base_uri": "https://localhost:8080/"
        },
        "id": "lpV3AXNPAAUZ",
        "outputId": "e1629b63-22c9-4957-b4b8-313fff58b0bd"
      },
      "outputs": [
        {
          "output_type": "stream",
          "name": "stdout",
          "text": [
            "[jovian] Detected Colab notebook...\u001b[0m\n",
            "[jovian] jovian.commit() is no longer required on Google Colab. If you ran this notebook from Jovian, \n",
            "then just save this file in Colab using Ctrl+S/Cmd+S and it will be updated on Jovian. \n",
            "Also, you can also delete this cell, it's no longer necessary.\u001b[0m\n"
          ]
        }
      ],
      "source": [
        "jovian.commit(project='pandas-practice-assignment', environment=None)"
      ]
    },
    {
      "cell_type": "markdown",
      "metadata": {
        "id": "p6ZO0hb1AAUZ"
      },
      "source": [
        "**Q6: Create a data frame that counts the number countries in each continent?**\n",
        "\n",
        "*Hint: Use `groupby`, select the `location` column and aggregate using `count`.*"
      ]
    },
    {
      "cell_type": "code",
      "execution_count": 31,
      "metadata": {
        "id": "Mv0Q858AAAUZ"
      },
      "outputs": [],
      "source": [
        "country_counts_df = countries_df.groupby(\"continent\")[\"location\"].count()"
      ]
    },
    {
      "cell_type": "code",
      "execution_count": 32,
      "metadata": {
        "id": "sL3tWvnFAAUZ",
        "colab": {
          "base_uri": "https://localhost:8080/"
        },
        "outputId": "7f1a1748-5567-4b6c-c869-e9d8109b4540"
      },
      "outputs": [
        {
          "output_type": "execute_result",
          "data": {
            "text/plain": [
              "continent\n",
              "Africa           55\n",
              "Asia             47\n",
              "Europe           51\n",
              "North America    36\n",
              "Oceania           8\n",
              "South America    13\n",
              "Name: location, dtype: int64"
            ]
          },
          "metadata": {},
          "execution_count": 32
        }
      ],
      "source": [
        "country_counts_df"
      ]
    },
    {
      "cell_type": "code",
      "execution_count": 33,
      "metadata": {
        "id": "41ScyYbYAAUZ",
        "colab": {
          "base_uri": "https://localhost:8080/"
        },
        "outputId": "64174910-4ddb-4277-e3e0-c69b09d2472d"
      },
      "outputs": [
        {
          "output_type": "stream",
          "name": "stdout",
          "text": [
            "[jovian] Detected Colab notebook...\u001b[0m\n",
            "[jovian] jovian.commit() is no longer required on Google Colab. If you ran this notebook from Jovian, \n",
            "then just save this file in Colab using Ctrl+S/Cmd+S and it will be updated on Jovian. \n",
            "Also, you can also delete this cell, it's no longer necessary.\u001b[0m\n"
          ]
        }
      ],
      "source": [
        "jovian.commit(project='pandas-practice-assignment', environment=None)"
      ]
    },
    {
      "cell_type": "markdown",
      "metadata": {
        "id": "tqE2YQWdAAUa"
      },
      "source": [
        "**Q7: Create a data frame showing the total population of each continent.**\n",
        "\n",
        "*Hint: Use `groupby`, select the population column and aggregate using `sum`.*"
      ]
    },
    {
      "cell_type": "code",
      "execution_count": 38,
      "metadata": {
        "id": "G9n6SiAeAAUa"
      },
      "outputs": [],
      "source": [
        "continent_populations_df =  countries_df.groupby(\"continent\")[\"population\"].sum()"
      ]
    },
    {
      "cell_type": "code",
      "execution_count": 39,
      "metadata": {
        "id": "otbE_KchAAUa",
        "colab": {
          "base_uri": "https://localhost:8080/"
        },
        "outputId": "6e988e2b-9df8-4ba8-8bb5-55ae2c3aa67f"
      },
      "outputs": [
        {
          "output_type": "execute_result",
          "data": {
            "text/plain": [
              "continent\n",
              "Africa           1.339424e+09\n",
              "Asia             4.607388e+09\n",
              "Europe           7.485062e+08\n",
              "North America    5.912425e+08\n",
              "Oceania          4.095832e+07\n",
              "South America    4.304611e+08\n",
              "Name: population, dtype: float64"
            ]
          },
          "metadata": {},
          "execution_count": 39
        }
      ],
      "source": [
        "continent_populations_df"
      ]
    },
    {
      "cell_type": "code",
      "execution_count": 40,
      "metadata": {
        "id": "KMGrDmdEAAUa",
        "colab": {
          "base_uri": "https://localhost:8080/"
        },
        "outputId": "b3841859-2578-414a-9533-0fd3566955bf"
      },
      "outputs": [
        {
          "output_type": "stream",
          "name": "stdout",
          "text": [
            "[jovian] Detected Colab notebook...\u001b[0m\n",
            "[jovian] jovian.commit() is no longer required on Google Colab. If you ran this notebook from Jovian, \n",
            "then just save this file in Colab using Ctrl+S/Cmd+S and it will be updated on Jovian. \n",
            "Also, you can also delete this cell, it's no longer necessary.\u001b[0m\n"
          ]
        }
      ],
      "source": [
        "jovian.commit(project='pandas-practice-assignment', environment=None)"
      ]
    },
    {
      "cell_type": "markdown",
      "metadata": {
        "id": "c-2qUqyOAAUa"
      },
      "source": [
        "Let's download another CSV file containing overall Covid-19 stats for various countires, and read the data into another Pandas data frame."
      ]
    },
    {
      "cell_type": "code",
      "execution_count": 41,
      "metadata": {
        "id": "NQCnKsTTAAUa",
        "colab": {
          "base_uri": "https://localhost:8080/"
        },
        "outputId": "008a76e9-ffff-4c29-cc93-56be23e73f0a"
      },
      "outputs": [
        {
          "output_type": "execute_result",
          "data": {
            "text/plain": [
              "('covid-countries-data.csv', <http.client.HTTPMessage at 0x7ff7d46c6130>)"
            ]
          },
          "metadata": {},
          "execution_count": 41
        }
      ],
      "source": [
        "urlretrieve('https://gist.githubusercontent.com/aakashns/b2a968a6cfd9fbbb0ff3d6bd0f26262b/raw/b115ed1dfa17f10fc88bf966236cd4d9032f1df8/covid-countries-data.csv', \n",
        "            'covid-countries-data.csv')"
      ]
    },
    {
      "cell_type": "code",
      "execution_count": 42,
      "metadata": {
        "id": "ZmxPC-69AAUb"
      },
      "outputs": [],
      "source": [
        "covid_data_df = pd.read_csv('covid-countries-data.csv')"
      ]
    },
    {
      "cell_type": "code",
      "execution_count": 43,
      "metadata": {
        "id": "1rWkwJBWAAUb",
        "scrolled": true,
        "colab": {
          "base_uri": "https://localhost:8080/",
          "height": 424
        },
        "outputId": "3574cb92-06a6-43bc-fd43-2d9ef46c7c10"
      },
      "outputs": [
        {
          "output_type": "execute_result",
          "data": {
            "text/plain": [
              "           location  total_cases  total_deaths  total_tests\n",
              "0       Afghanistan      38243.0        1409.0          NaN\n",
              "1           Albania       9728.0         296.0          NaN\n",
              "2           Algeria      45158.0        1525.0          NaN\n",
              "3           Andorra       1199.0          53.0          NaN\n",
              "4            Angola       2729.0         109.0          NaN\n",
              "..              ...          ...           ...          ...\n",
              "207  Western Sahara        766.0           1.0          NaN\n",
              "208           World   26059065.0      863535.0          NaN\n",
              "209           Yemen       1976.0         571.0          NaN\n",
              "210          Zambia      12415.0         292.0          NaN\n",
              "211        Zimbabwe       6638.0         206.0      97272.0\n",
              "\n",
              "[212 rows x 4 columns]"
            ],
            "text/html": [
              "\n",
              "  <div id=\"df-c527e3be-41b4-434b-98e9-3ae40fb8102e\">\n",
              "    <div class=\"colab-df-container\">\n",
              "      <div>\n",
              "<style scoped>\n",
              "    .dataframe tbody tr th:only-of-type {\n",
              "        vertical-align: middle;\n",
              "    }\n",
              "\n",
              "    .dataframe tbody tr th {\n",
              "        vertical-align: top;\n",
              "    }\n",
              "\n",
              "    .dataframe thead th {\n",
              "        text-align: right;\n",
              "    }\n",
              "</style>\n",
              "<table border=\"1\" class=\"dataframe\">\n",
              "  <thead>\n",
              "    <tr style=\"text-align: right;\">\n",
              "      <th></th>\n",
              "      <th>location</th>\n",
              "      <th>total_cases</th>\n",
              "      <th>total_deaths</th>\n",
              "      <th>total_tests</th>\n",
              "    </tr>\n",
              "  </thead>\n",
              "  <tbody>\n",
              "    <tr>\n",
              "      <th>0</th>\n",
              "      <td>Afghanistan</td>\n",
              "      <td>38243.0</td>\n",
              "      <td>1409.0</td>\n",
              "      <td>NaN</td>\n",
              "    </tr>\n",
              "    <tr>\n",
              "      <th>1</th>\n",
              "      <td>Albania</td>\n",
              "      <td>9728.0</td>\n",
              "      <td>296.0</td>\n",
              "      <td>NaN</td>\n",
              "    </tr>\n",
              "    <tr>\n",
              "      <th>2</th>\n",
              "      <td>Algeria</td>\n",
              "      <td>45158.0</td>\n",
              "      <td>1525.0</td>\n",
              "      <td>NaN</td>\n",
              "    </tr>\n",
              "    <tr>\n",
              "      <th>3</th>\n",
              "      <td>Andorra</td>\n",
              "      <td>1199.0</td>\n",
              "      <td>53.0</td>\n",
              "      <td>NaN</td>\n",
              "    </tr>\n",
              "    <tr>\n",
              "      <th>4</th>\n",
              "      <td>Angola</td>\n",
              "      <td>2729.0</td>\n",
              "      <td>109.0</td>\n",
              "      <td>NaN</td>\n",
              "    </tr>\n",
              "    <tr>\n",
              "      <th>...</th>\n",
              "      <td>...</td>\n",
              "      <td>...</td>\n",
              "      <td>...</td>\n",
              "      <td>...</td>\n",
              "    </tr>\n",
              "    <tr>\n",
              "      <th>207</th>\n",
              "      <td>Western Sahara</td>\n",
              "      <td>766.0</td>\n",
              "      <td>1.0</td>\n",
              "      <td>NaN</td>\n",
              "    </tr>\n",
              "    <tr>\n",
              "      <th>208</th>\n",
              "      <td>World</td>\n",
              "      <td>26059065.0</td>\n",
              "      <td>863535.0</td>\n",
              "      <td>NaN</td>\n",
              "    </tr>\n",
              "    <tr>\n",
              "      <th>209</th>\n",
              "      <td>Yemen</td>\n",
              "      <td>1976.0</td>\n",
              "      <td>571.0</td>\n",
              "      <td>NaN</td>\n",
              "    </tr>\n",
              "    <tr>\n",
              "      <th>210</th>\n",
              "      <td>Zambia</td>\n",
              "      <td>12415.0</td>\n",
              "      <td>292.0</td>\n",
              "      <td>NaN</td>\n",
              "    </tr>\n",
              "    <tr>\n",
              "      <th>211</th>\n",
              "      <td>Zimbabwe</td>\n",
              "      <td>6638.0</td>\n",
              "      <td>206.0</td>\n",
              "      <td>97272.0</td>\n",
              "    </tr>\n",
              "  </tbody>\n",
              "</table>\n",
              "<p>212 rows × 4 columns</p>\n",
              "</div>\n",
              "      <button class=\"colab-df-convert\" onclick=\"convertToInteractive('df-c527e3be-41b4-434b-98e9-3ae40fb8102e')\"\n",
              "              title=\"Convert this dataframe to an interactive table.\"\n",
              "              style=\"display:none;\">\n",
              "        \n",
              "  <svg xmlns=\"http://www.w3.org/2000/svg\" height=\"24px\"viewBox=\"0 0 24 24\"\n",
              "       width=\"24px\">\n",
              "    <path d=\"M0 0h24v24H0V0z\" fill=\"none\"/>\n",
              "    <path d=\"M18.56 5.44l.94 2.06.94-2.06 2.06-.94-2.06-.94-.94-2.06-.94 2.06-2.06.94zm-11 1L8.5 8.5l.94-2.06 2.06-.94-2.06-.94L8.5 2.5l-.94 2.06-2.06.94zm10 10l.94 2.06.94-2.06 2.06-.94-2.06-.94-.94-2.06-.94 2.06-2.06.94z\"/><path d=\"M17.41 7.96l-1.37-1.37c-.4-.4-.92-.59-1.43-.59-.52 0-1.04.2-1.43.59L10.3 9.45l-7.72 7.72c-.78.78-.78 2.05 0 2.83L4 21.41c.39.39.9.59 1.41.59.51 0 1.02-.2 1.41-.59l7.78-7.78 2.81-2.81c.8-.78.8-2.07 0-2.86zM5.41 20L4 18.59l7.72-7.72 1.47 1.35L5.41 20z\"/>\n",
              "  </svg>\n",
              "      </button>\n",
              "      \n",
              "  <style>\n",
              "    .colab-df-container {\n",
              "      display:flex;\n",
              "      flex-wrap:wrap;\n",
              "      gap: 12px;\n",
              "    }\n",
              "\n",
              "    .colab-df-convert {\n",
              "      background-color: #E8F0FE;\n",
              "      border: none;\n",
              "      border-radius: 50%;\n",
              "      cursor: pointer;\n",
              "      display: none;\n",
              "      fill: #1967D2;\n",
              "      height: 32px;\n",
              "      padding: 0 0 0 0;\n",
              "      width: 32px;\n",
              "    }\n",
              "\n",
              "    .colab-df-convert:hover {\n",
              "      background-color: #E2EBFA;\n",
              "      box-shadow: 0px 1px 2px rgba(60, 64, 67, 0.3), 0px 1px 3px 1px rgba(60, 64, 67, 0.15);\n",
              "      fill: #174EA6;\n",
              "    }\n",
              "\n",
              "    [theme=dark] .colab-df-convert {\n",
              "      background-color: #3B4455;\n",
              "      fill: #D2E3FC;\n",
              "    }\n",
              "\n",
              "    [theme=dark] .colab-df-convert:hover {\n",
              "      background-color: #434B5C;\n",
              "      box-shadow: 0px 1px 3px 1px rgba(0, 0, 0, 0.15);\n",
              "      filter: drop-shadow(0px 1px 2px rgba(0, 0, 0, 0.3));\n",
              "      fill: #FFFFFF;\n",
              "    }\n",
              "  </style>\n",
              "\n",
              "      <script>\n",
              "        const buttonEl =\n",
              "          document.querySelector('#df-c527e3be-41b4-434b-98e9-3ae40fb8102e button.colab-df-convert');\n",
              "        buttonEl.style.display =\n",
              "          google.colab.kernel.accessAllowed ? 'block' : 'none';\n",
              "\n",
              "        async function convertToInteractive(key) {\n",
              "          const element = document.querySelector('#df-c527e3be-41b4-434b-98e9-3ae40fb8102e');\n",
              "          const dataTable =\n",
              "            await google.colab.kernel.invokeFunction('convertToInteractive',\n",
              "                                                     [key], {});\n",
              "          if (!dataTable) return;\n",
              "\n",
              "          const docLinkHtml = 'Like what you see? Visit the ' +\n",
              "            '<a target=\"_blank\" href=https://colab.research.google.com/notebooks/data_table.ipynb>data table notebook</a>'\n",
              "            + ' to learn more about interactive tables.';\n",
              "          element.innerHTML = '';\n",
              "          dataTable['output_type'] = 'display_data';\n",
              "          await google.colab.output.renderOutput(dataTable, element);\n",
              "          const docLink = document.createElement('div');\n",
              "          docLink.innerHTML = docLinkHtml;\n",
              "          element.appendChild(docLink);\n",
              "        }\n",
              "      </script>\n",
              "    </div>\n",
              "  </div>\n",
              "  "
            ]
          },
          "metadata": {},
          "execution_count": 43
        }
      ],
      "source": [
        "covid_data_df"
      ]
    },
    {
      "cell_type": "markdown",
      "metadata": {
        "id": "S662fZfxAAUb"
      },
      "source": [
        "**Q8: Count the number of countries for which the `total_tests` data is missing.**\n",
        "\n",
        "*Hint: Use the `.isna` method.*"
      ]
    },
    {
      "cell_type": "code",
      "execution_count": 45,
      "metadata": {
        "id": "KyM5eLtjAAUb"
      },
      "outputs": [],
      "source": [
        "total_tests_missing = covid_data_df[\"total_tests\"].isna().sum()"
      ]
    },
    {
      "cell_type": "code",
      "execution_count": 46,
      "metadata": {
        "id": "FEu9OcRTAAUb",
        "colab": {
          "base_uri": "https://localhost:8080/"
        },
        "outputId": "cff61845-02ca-456c-84be-af39cad2cae7"
      },
      "outputs": [
        {
          "output_type": "stream",
          "name": "stdout",
          "text": [
            "The data for total tests is missing for 122 countries.\n"
          ]
        }
      ],
      "source": [
        "print(\"The data for total tests is missing for {} countries.\".format(int(total_tests_missing)))"
      ]
    },
    {
      "cell_type": "code",
      "execution_count": 47,
      "metadata": {
        "id": "pFVDtu-4AAUb",
        "colab": {
          "base_uri": "https://localhost:8080/"
        },
        "outputId": "d9684191-9dfe-437d-ecb6-926b55729304"
      },
      "outputs": [
        {
          "output_type": "stream",
          "name": "stdout",
          "text": [
            "[jovian] Detected Colab notebook...\u001b[0m\n",
            "[jovian] jovian.commit() is no longer required on Google Colab. If you ran this notebook from Jovian, \n",
            "then just save this file in Colab using Ctrl+S/Cmd+S and it will be updated on Jovian. \n",
            "Also, you can also delete this cell, it's no longer necessary.\u001b[0m\n"
          ]
        }
      ],
      "source": [
        "jovian.commit(project='pandas-practice-assignment', environment=None)"
      ]
    },
    {
      "cell_type": "markdown",
      "metadata": {
        "id": "AuScUsM-AAUb"
      },
      "source": [
        "Let's merge the two data frames, and compute some more metrics.\n",
        "\n",
        "**Q9: Merge `countries_df` with `covid_data_df` on the `location` column.**\n",
        "\n",
        "*Hint: Use the `.merge` method on `countries_df`."
      ]
    },
    {
      "cell_type": "code",
      "execution_count": 48,
      "metadata": {
        "id": "AvbBcUTBAAUb"
      },
      "outputs": [],
      "source": [
        "combined_df = countries_df.merge(covid_data_df,on=\"location\")"
      ]
    },
    {
      "cell_type": "code",
      "execution_count": 49,
      "metadata": {
        "id": "hdC99QiOAAUc",
        "colab": {
          "base_uri": "https://localhost:8080/",
          "height": 424
        },
        "outputId": "c7e2f478-b855-4b55-abd4-6c73826e1ea4"
      },
      "outputs": [
        {
          "output_type": "execute_result",
          "data": {
            "text/plain": [
              "           location continent  population  life_expectancy  \\\n",
              "0       Afghanistan      Asia  38928341.0            64.83   \n",
              "1           Albania    Europe   2877800.0            78.57   \n",
              "2           Algeria    Africa  43851043.0            76.88   \n",
              "3           Andorra    Europe     77265.0            83.73   \n",
              "4            Angola    Africa  32866268.0            61.15   \n",
              "..              ...       ...         ...              ...   \n",
              "205         Vietnam      Asia  97338583.0            75.40   \n",
              "206  Western Sahara    Africa    597330.0            70.26   \n",
              "207           Yemen      Asia  29825968.0            66.12   \n",
              "208          Zambia    Africa  18383956.0            63.89   \n",
              "209        Zimbabwe    Africa  14862927.0            61.49   \n",
              "\n",
              "     hospital_beds_per_thousand  gdp_per_capita           gdp  total_cases  \\\n",
              "0                          0.50        1803.987  7.022622e+10      38243.0   \n",
              "1                          2.89       11803.431  3.396791e+10       9728.0   \n",
              "2                          1.90       13913.839  6.101364e+11      45158.0   \n",
              "3                           NaN             NaN           NaN       1199.0   \n",
              "4                           NaN        5819.495  1.912651e+11       2729.0   \n",
              "..                          ...             ...           ...          ...   \n",
              "205                        2.60        6171.884  6.007624e+11       1046.0   \n",
              "206                         NaN             NaN           NaN        766.0   \n",
              "207                        0.70        1479.147  4.411699e+10       1976.0   \n",
              "208                        2.00        3689.251  6.782303e+10      12415.0   \n",
              "209                        1.70        1899.775  2.823622e+10       6638.0   \n",
              "\n",
              "     total_deaths  total_tests  \n",
              "0          1409.0          NaN  \n",
              "1           296.0          NaN  \n",
              "2          1525.0          NaN  \n",
              "3            53.0          NaN  \n",
              "4           109.0          NaN  \n",
              "..            ...          ...  \n",
              "205          35.0     261004.0  \n",
              "206           1.0          NaN  \n",
              "207         571.0          NaN  \n",
              "208         292.0          NaN  \n",
              "209         206.0      97272.0  \n",
              "\n",
              "[210 rows x 10 columns]"
            ],
            "text/html": [
              "\n",
              "  <div id=\"df-f1326565-53e6-450a-ae8b-2fc5f1f5ae2e\">\n",
              "    <div class=\"colab-df-container\">\n",
              "      <div>\n",
              "<style scoped>\n",
              "    .dataframe tbody tr th:only-of-type {\n",
              "        vertical-align: middle;\n",
              "    }\n",
              "\n",
              "    .dataframe tbody tr th {\n",
              "        vertical-align: top;\n",
              "    }\n",
              "\n",
              "    .dataframe thead th {\n",
              "        text-align: right;\n",
              "    }\n",
              "</style>\n",
              "<table border=\"1\" class=\"dataframe\">\n",
              "  <thead>\n",
              "    <tr style=\"text-align: right;\">\n",
              "      <th></th>\n",
              "      <th>location</th>\n",
              "      <th>continent</th>\n",
              "      <th>population</th>\n",
              "      <th>life_expectancy</th>\n",
              "      <th>hospital_beds_per_thousand</th>\n",
              "      <th>gdp_per_capita</th>\n",
              "      <th>gdp</th>\n",
              "      <th>total_cases</th>\n",
              "      <th>total_deaths</th>\n",
              "      <th>total_tests</th>\n",
              "    </tr>\n",
              "  </thead>\n",
              "  <tbody>\n",
              "    <tr>\n",
              "      <th>0</th>\n",
              "      <td>Afghanistan</td>\n",
              "      <td>Asia</td>\n",
              "      <td>38928341.0</td>\n",
              "      <td>64.83</td>\n",
              "      <td>0.50</td>\n",
              "      <td>1803.987</td>\n",
              "      <td>7.022622e+10</td>\n",
              "      <td>38243.0</td>\n",
              "      <td>1409.0</td>\n",
              "      <td>NaN</td>\n",
              "    </tr>\n",
              "    <tr>\n",
              "      <th>1</th>\n",
              "      <td>Albania</td>\n",
              "      <td>Europe</td>\n",
              "      <td>2877800.0</td>\n",
              "      <td>78.57</td>\n",
              "      <td>2.89</td>\n",
              "      <td>11803.431</td>\n",
              "      <td>3.396791e+10</td>\n",
              "      <td>9728.0</td>\n",
              "      <td>296.0</td>\n",
              "      <td>NaN</td>\n",
              "    </tr>\n",
              "    <tr>\n",
              "      <th>2</th>\n",
              "      <td>Algeria</td>\n",
              "      <td>Africa</td>\n",
              "      <td>43851043.0</td>\n",
              "      <td>76.88</td>\n",
              "      <td>1.90</td>\n",
              "      <td>13913.839</td>\n",
              "      <td>6.101364e+11</td>\n",
              "      <td>45158.0</td>\n",
              "      <td>1525.0</td>\n",
              "      <td>NaN</td>\n",
              "    </tr>\n",
              "    <tr>\n",
              "      <th>3</th>\n",
              "      <td>Andorra</td>\n",
              "      <td>Europe</td>\n",
              "      <td>77265.0</td>\n",
              "      <td>83.73</td>\n",
              "      <td>NaN</td>\n",
              "      <td>NaN</td>\n",
              "      <td>NaN</td>\n",
              "      <td>1199.0</td>\n",
              "      <td>53.0</td>\n",
              "      <td>NaN</td>\n",
              "    </tr>\n",
              "    <tr>\n",
              "      <th>4</th>\n",
              "      <td>Angola</td>\n",
              "      <td>Africa</td>\n",
              "      <td>32866268.0</td>\n",
              "      <td>61.15</td>\n",
              "      <td>NaN</td>\n",
              "      <td>5819.495</td>\n",
              "      <td>1.912651e+11</td>\n",
              "      <td>2729.0</td>\n",
              "      <td>109.0</td>\n",
              "      <td>NaN</td>\n",
              "    </tr>\n",
              "    <tr>\n",
              "      <th>...</th>\n",
              "      <td>...</td>\n",
              "      <td>...</td>\n",
              "      <td>...</td>\n",
              "      <td>...</td>\n",
              "      <td>...</td>\n",
              "      <td>...</td>\n",
              "      <td>...</td>\n",
              "      <td>...</td>\n",
              "      <td>...</td>\n",
              "      <td>...</td>\n",
              "    </tr>\n",
              "    <tr>\n",
              "      <th>205</th>\n",
              "      <td>Vietnam</td>\n",
              "      <td>Asia</td>\n",
              "      <td>97338583.0</td>\n",
              "      <td>75.40</td>\n",
              "      <td>2.60</td>\n",
              "      <td>6171.884</td>\n",
              "      <td>6.007624e+11</td>\n",
              "      <td>1046.0</td>\n",
              "      <td>35.0</td>\n",
              "      <td>261004.0</td>\n",
              "    </tr>\n",
              "    <tr>\n",
              "      <th>206</th>\n",
              "      <td>Western Sahara</td>\n",
              "      <td>Africa</td>\n",
              "      <td>597330.0</td>\n",
              "      <td>70.26</td>\n",
              "      <td>NaN</td>\n",
              "      <td>NaN</td>\n",
              "      <td>NaN</td>\n",
              "      <td>766.0</td>\n",
              "      <td>1.0</td>\n",
              "      <td>NaN</td>\n",
              "    </tr>\n",
              "    <tr>\n",
              "      <th>207</th>\n",
              "      <td>Yemen</td>\n",
              "      <td>Asia</td>\n",
              "      <td>29825968.0</td>\n",
              "      <td>66.12</td>\n",
              "      <td>0.70</td>\n",
              "      <td>1479.147</td>\n",
              "      <td>4.411699e+10</td>\n",
              "      <td>1976.0</td>\n",
              "      <td>571.0</td>\n",
              "      <td>NaN</td>\n",
              "    </tr>\n",
              "    <tr>\n",
              "      <th>208</th>\n",
              "      <td>Zambia</td>\n",
              "      <td>Africa</td>\n",
              "      <td>18383956.0</td>\n",
              "      <td>63.89</td>\n",
              "      <td>2.00</td>\n",
              "      <td>3689.251</td>\n",
              "      <td>6.782303e+10</td>\n",
              "      <td>12415.0</td>\n",
              "      <td>292.0</td>\n",
              "      <td>NaN</td>\n",
              "    </tr>\n",
              "    <tr>\n",
              "      <th>209</th>\n",
              "      <td>Zimbabwe</td>\n",
              "      <td>Africa</td>\n",
              "      <td>14862927.0</td>\n",
              "      <td>61.49</td>\n",
              "      <td>1.70</td>\n",
              "      <td>1899.775</td>\n",
              "      <td>2.823622e+10</td>\n",
              "      <td>6638.0</td>\n",
              "      <td>206.0</td>\n",
              "      <td>97272.0</td>\n",
              "    </tr>\n",
              "  </tbody>\n",
              "</table>\n",
              "<p>210 rows × 10 columns</p>\n",
              "</div>\n",
              "      <button class=\"colab-df-convert\" onclick=\"convertToInteractive('df-f1326565-53e6-450a-ae8b-2fc5f1f5ae2e')\"\n",
              "              title=\"Convert this dataframe to an interactive table.\"\n",
              "              style=\"display:none;\">\n",
              "        \n",
              "  <svg xmlns=\"http://www.w3.org/2000/svg\" height=\"24px\"viewBox=\"0 0 24 24\"\n",
              "       width=\"24px\">\n",
              "    <path d=\"M0 0h24v24H0V0z\" fill=\"none\"/>\n",
              "    <path d=\"M18.56 5.44l.94 2.06.94-2.06 2.06-.94-2.06-.94-.94-2.06-.94 2.06-2.06.94zm-11 1L8.5 8.5l.94-2.06 2.06-.94-2.06-.94L8.5 2.5l-.94 2.06-2.06.94zm10 10l.94 2.06.94-2.06 2.06-.94-2.06-.94-.94-2.06-.94 2.06-2.06.94z\"/><path d=\"M17.41 7.96l-1.37-1.37c-.4-.4-.92-.59-1.43-.59-.52 0-1.04.2-1.43.59L10.3 9.45l-7.72 7.72c-.78.78-.78 2.05 0 2.83L4 21.41c.39.39.9.59 1.41.59.51 0 1.02-.2 1.41-.59l7.78-7.78 2.81-2.81c.8-.78.8-2.07 0-2.86zM5.41 20L4 18.59l7.72-7.72 1.47 1.35L5.41 20z\"/>\n",
              "  </svg>\n",
              "      </button>\n",
              "      \n",
              "  <style>\n",
              "    .colab-df-container {\n",
              "      display:flex;\n",
              "      flex-wrap:wrap;\n",
              "      gap: 12px;\n",
              "    }\n",
              "\n",
              "    .colab-df-convert {\n",
              "      background-color: #E8F0FE;\n",
              "      border: none;\n",
              "      border-radius: 50%;\n",
              "      cursor: pointer;\n",
              "      display: none;\n",
              "      fill: #1967D2;\n",
              "      height: 32px;\n",
              "      padding: 0 0 0 0;\n",
              "      width: 32px;\n",
              "    }\n",
              "\n",
              "    .colab-df-convert:hover {\n",
              "      background-color: #E2EBFA;\n",
              "      box-shadow: 0px 1px 2px rgba(60, 64, 67, 0.3), 0px 1px 3px 1px rgba(60, 64, 67, 0.15);\n",
              "      fill: #174EA6;\n",
              "    }\n",
              "\n",
              "    [theme=dark] .colab-df-convert {\n",
              "      background-color: #3B4455;\n",
              "      fill: #D2E3FC;\n",
              "    }\n",
              "\n",
              "    [theme=dark] .colab-df-convert:hover {\n",
              "      background-color: #434B5C;\n",
              "      box-shadow: 0px 1px 3px 1px rgba(0, 0, 0, 0.15);\n",
              "      filter: drop-shadow(0px 1px 2px rgba(0, 0, 0, 0.3));\n",
              "      fill: #FFFFFF;\n",
              "    }\n",
              "  </style>\n",
              "\n",
              "      <script>\n",
              "        const buttonEl =\n",
              "          document.querySelector('#df-f1326565-53e6-450a-ae8b-2fc5f1f5ae2e button.colab-df-convert');\n",
              "        buttonEl.style.display =\n",
              "          google.colab.kernel.accessAllowed ? 'block' : 'none';\n",
              "\n",
              "        async function convertToInteractive(key) {\n",
              "          const element = document.querySelector('#df-f1326565-53e6-450a-ae8b-2fc5f1f5ae2e');\n",
              "          const dataTable =\n",
              "            await google.colab.kernel.invokeFunction('convertToInteractive',\n",
              "                                                     [key], {});\n",
              "          if (!dataTable) return;\n",
              "\n",
              "          const docLinkHtml = 'Like what you see? Visit the ' +\n",
              "            '<a target=\"_blank\" href=https://colab.research.google.com/notebooks/data_table.ipynb>data table notebook</a>'\n",
              "            + ' to learn more about interactive tables.';\n",
              "          element.innerHTML = '';\n",
              "          dataTable['output_type'] = 'display_data';\n",
              "          await google.colab.output.renderOutput(dataTable, element);\n",
              "          const docLink = document.createElement('div');\n",
              "          docLink.innerHTML = docLinkHtml;\n",
              "          element.appendChild(docLink);\n",
              "        }\n",
              "      </script>\n",
              "    </div>\n",
              "  </div>\n",
              "  "
            ]
          },
          "metadata": {},
          "execution_count": 49
        }
      ],
      "source": [
        "combined_df"
      ]
    },
    {
      "cell_type": "code",
      "execution_count": 50,
      "metadata": {
        "id": "hLmLCGapAAUc",
        "colab": {
          "base_uri": "https://localhost:8080/"
        },
        "outputId": "295e4d0a-e93e-46ff-8313-6e19be66f03e"
      },
      "outputs": [
        {
          "output_type": "stream",
          "name": "stdout",
          "text": [
            "[jovian] Detected Colab notebook...\u001b[0m\n",
            "[jovian] jovian.commit() is no longer required on Google Colab. If you ran this notebook from Jovian, \n",
            "then just save this file in Colab using Ctrl+S/Cmd+S and it will be updated on Jovian. \n",
            "Also, you can also delete this cell, it's no longer necessary.\u001b[0m\n"
          ]
        }
      ],
      "source": [
        "jovian.commit(project='pandas-practice-assignment', environment=None)"
      ]
    },
    {
      "cell_type": "markdown",
      "metadata": {
        "id": "McxBxBK_AAUc"
      },
      "source": [
        "**Q10: Add columns `tests_per_million`, `cases_per_million` and `deaths_per_million` into `combined_df`.**"
      ]
    },
    {
      "cell_type": "code",
      "execution_count": 51,
      "metadata": {
        "id": "ykHyG5WbAAUc"
      },
      "outputs": [],
      "source": [
        "combined_df['tests_per_million'] = combined_df['total_tests'] * 1e6 / combined_df['population']"
      ]
    },
    {
      "cell_type": "code",
      "execution_count": 52,
      "metadata": {
        "id": "r1Q8RudBAAUc"
      },
      "outputs": [],
      "source": [
        "combined_df['cases_per_million'] = combined_df['total_cases'] * 1e6 / combined_df['population']"
      ]
    },
    {
      "cell_type": "code",
      "execution_count": 53,
      "metadata": {
        "id": "5gNb6ShkAAUc"
      },
      "outputs": [],
      "source": [
        "combined_df['deaths_per_million'] = combined_df['total_deaths'] * 1e6 / combined_df['population']\n"
      ]
    },
    {
      "cell_type": "code",
      "execution_count": 54,
      "metadata": {
        "id": "GqzOk8znAAUd",
        "colab": {
          "base_uri": "https://localhost:8080/",
          "height": 505
        },
        "outputId": "6da77c98-7790-4fb4-942a-ff03385c2ab1"
      },
      "outputs": [
        {
          "output_type": "execute_result",
          "data": {
            "text/plain": [
              "           location continent  population  life_expectancy  \\\n",
              "0       Afghanistan      Asia  38928341.0            64.83   \n",
              "1           Albania    Europe   2877800.0            78.57   \n",
              "2           Algeria    Africa  43851043.0            76.88   \n",
              "3           Andorra    Europe     77265.0            83.73   \n",
              "4            Angola    Africa  32866268.0            61.15   \n",
              "..              ...       ...         ...              ...   \n",
              "205         Vietnam      Asia  97338583.0            75.40   \n",
              "206  Western Sahara    Africa    597330.0            70.26   \n",
              "207           Yemen      Asia  29825968.0            66.12   \n",
              "208          Zambia    Africa  18383956.0            63.89   \n",
              "209        Zimbabwe    Africa  14862927.0            61.49   \n",
              "\n",
              "     hospital_beds_per_thousand  gdp_per_capita           gdp  total_cases  \\\n",
              "0                          0.50        1803.987  7.022622e+10      38243.0   \n",
              "1                          2.89       11803.431  3.396791e+10       9728.0   \n",
              "2                          1.90       13913.839  6.101364e+11      45158.0   \n",
              "3                           NaN             NaN           NaN       1199.0   \n",
              "4                           NaN        5819.495  1.912651e+11       2729.0   \n",
              "..                          ...             ...           ...          ...   \n",
              "205                        2.60        6171.884  6.007624e+11       1046.0   \n",
              "206                         NaN             NaN           NaN        766.0   \n",
              "207                        0.70        1479.147  4.411699e+10       1976.0   \n",
              "208                        2.00        3689.251  6.782303e+10      12415.0   \n",
              "209                        1.70        1899.775  2.823622e+10       6638.0   \n",
              "\n",
              "     total_deaths  total_tests  tests_per_million  cases_per_million  \\\n",
              "0          1409.0          NaN                NaN         982.394806   \n",
              "1           296.0          NaN                NaN        3380.359997   \n",
              "2          1525.0          NaN                NaN        1029.804468   \n",
              "3            53.0          NaN                NaN       15518.022390   \n",
              "4           109.0          NaN                NaN          83.033462   \n",
              "..            ...          ...                ...                ...   \n",
              "205          35.0     261004.0        2681.403324          10.745996   \n",
              "206           1.0          NaN                NaN        1282.373228   \n",
              "207         571.0          NaN                NaN          66.250993   \n",
              "208         292.0          NaN                NaN         675.317108   \n",
              "209         206.0      97272.0        6544.605918         446.614587   \n",
              "\n",
              "     deaths_per_million  \n",
              "0             36.194710  \n",
              "1            102.856349  \n",
              "2             34.776824  \n",
              "3            685.950948  \n",
              "4              3.316470  \n",
              "..                  ...  \n",
              "205            0.359570  \n",
              "206            1.674116  \n",
              "207           19.144391  \n",
              "208           15.883415  \n",
              "209           13.859989  \n",
              "\n",
              "[210 rows x 13 columns]"
            ],
            "text/html": [
              "\n",
              "  <div id=\"df-9664bd31-889d-4299-928e-c67eb2be8acd\">\n",
              "    <div class=\"colab-df-container\">\n",
              "      <div>\n",
              "<style scoped>\n",
              "    .dataframe tbody tr th:only-of-type {\n",
              "        vertical-align: middle;\n",
              "    }\n",
              "\n",
              "    .dataframe tbody tr th {\n",
              "        vertical-align: top;\n",
              "    }\n",
              "\n",
              "    .dataframe thead th {\n",
              "        text-align: right;\n",
              "    }\n",
              "</style>\n",
              "<table border=\"1\" class=\"dataframe\">\n",
              "  <thead>\n",
              "    <tr style=\"text-align: right;\">\n",
              "      <th></th>\n",
              "      <th>location</th>\n",
              "      <th>continent</th>\n",
              "      <th>population</th>\n",
              "      <th>life_expectancy</th>\n",
              "      <th>hospital_beds_per_thousand</th>\n",
              "      <th>gdp_per_capita</th>\n",
              "      <th>gdp</th>\n",
              "      <th>total_cases</th>\n",
              "      <th>total_deaths</th>\n",
              "      <th>total_tests</th>\n",
              "      <th>tests_per_million</th>\n",
              "      <th>cases_per_million</th>\n",
              "      <th>deaths_per_million</th>\n",
              "    </tr>\n",
              "  </thead>\n",
              "  <tbody>\n",
              "    <tr>\n",
              "      <th>0</th>\n",
              "      <td>Afghanistan</td>\n",
              "      <td>Asia</td>\n",
              "      <td>38928341.0</td>\n",
              "      <td>64.83</td>\n",
              "      <td>0.50</td>\n",
              "      <td>1803.987</td>\n",
              "      <td>7.022622e+10</td>\n",
              "      <td>38243.0</td>\n",
              "      <td>1409.0</td>\n",
              "      <td>NaN</td>\n",
              "      <td>NaN</td>\n",
              "      <td>982.394806</td>\n",
              "      <td>36.194710</td>\n",
              "    </tr>\n",
              "    <tr>\n",
              "      <th>1</th>\n",
              "      <td>Albania</td>\n",
              "      <td>Europe</td>\n",
              "      <td>2877800.0</td>\n",
              "      <td>78.57</td>\n",
              "      <td>2.89</td>\n",
              "      <td>11803.431</td>\n",
              "      <td>3.396791e+10</td>\n",
              "      <td>9728.0</td>\n",
              "      <td>296.0</td>\n",
              "      <td>NaN</td>\n",
              "      <td>NaN</td>\n",
              "      <td>3380.359997</td>\n",
              "      <td>102.856349</td>\n",
              "    </tr>\n",
              "    <tr>\n",
              "      <th>2</th>\n",
              "      <td>Algeria</td>\n",
              "      <td>Africa</td>\n",
              "      <td>43851043.0</td>\n",
              "      <td>76.88</td>\n",
              "      <td>1.90</td>\n",
              "      <td>13913.839</td>\n",
              "      <td>6.101364e+11</td>\n",
              "      <td>45158.0</td>\n",
              "      <td>1525.0</td>\n",
              "      <td>NaN</td>\n",
              "      <td>NaN</td>\n",
              "      <td>1029.804468</td>\n",
              "      <td>34.776824</td>\n",
              "    </tr>\n",
              "    <tr>\n",
              "      <th>3</th>\n",
              "      <td>Andorra</td>\n",
              "      <td>Europe</td>\n",
              "      <td>77265.0</td>\n",
              "      <td>83.73</td>\n",
              "      <td>NaN</td>\n",
              "      <td>NaN</td>\n",
              "      <td>NaN</td>\n",
              "      <td>1199.0</td>\n",
              "      <td>53.0</td>\n",
              "      <td>NaN</td>\n",
              "      <td>NaN</td>\n",
              "      <td>15518.022390</td>\n",
              "      <td>685.950948</td>\n",
              "    </tr>\n",
              "    <tr>\n",
              "      <th>4</th>\n",
              "      <td>Angola</td>\n",
              "      <td>Africa</td>\n",
              "      <td>32866268.0</td>\n",
              "      <td>61.15</td>\n",
              "      <td>NaN</td>\n",
              "      <td>5819.495</td>\n",
              "      <td>1.912651e+11</td>\n",
              "      <td>2729.0</td>\n",
              "      <td>109.0</td>\n",
              "      <td>NaN</td>\n",
              "      <td>NaN</td>\n",
              "      <td>83.033462</td>\n",
              "      <td>3.316470</td>\n",
              "    </tr>\n",
              "    <tr>\n",
              "      <th>...</th>\n",
              "      <td>...</td>\n",
              "      <td>...</td>\n",
              "      <td>...</td>\n",
              "      <td>...</td>\n",
              "      <td>...</td>\n",
              "      <td>...</td>\n",
              "      <td>...</td>\n",
              "      <td>...</td>\n",
              "      <td>...</td>\n",
              "      <td>...</td>\n",
              "      <td>...</td>\n",
              "      <td>...</td>\n",
              "      <td>...</td>\n",
              "    </tr>\n",
              "    <tr>\n",
              "      <th>205</th>\n",
              "      <td>Vietnam</td>\n",
              "      <td>Asia</td>\n",
              "      <td>97338583.0</td>\n",
              "      <td>75.40</td>\n",
              "      <td>2.60</td>\n",
              "      <td>6171.884</td>\n",
              "      <td>6.007624e+11</td>\n",
              "      <td>1046.0</td>\n",
              "      <td>35.0</td>\n",
              "      <td>261004.0</td>\n",
              "      <td>2681.403324</td>\n",
              "      <td>10.745996</td>\n",
              "      <td>0.359570</td>\n",
              "    </tr>\n",
              "    <tr>\n",
              "      <th>206</th>\n",
              "      <td>Western Sahara</td>\n",
              "      <td>Africa</td>\n",
              "      <td>597330.0</td>\n",
              "      <td>70.26</td>\n",
              "      <td>NaN</td>\n",
              "      <td>NaN</td>\n",
              "      <td>NaN</td>\n",
              "      <td>766.0</td>\n",
              "      <td>1.0</td>\n",
              "      <td>NaN</td>\n",
              "      <td>NaN</td>\n",
              "      <td>1282.373228</td>\n",
              "      <td>1.674116</td>\n",
              "    </tr>\n",
              "    <tr>\n",
              "      <th>207</th>\n",
              "      <td>Yemen</td>\n",
              "      <td>Asia</td>\n",
              "      <td>29825968.0</td>\n",
              "      <td>66.12</td>\n",
              "      <td>0.70</td>\n",
              "      <td>1479.147</td>\n",
              "      <td>4.411699e+10</td>\n",
              "      <td>1976.0</td>\n",
              "      <td>571.0</td>\n",
              "      <td>NaN</td>\n",
              "      <td>NaN</td>\n",
              "      <td>66.250993</td>\n",
              "      <td>19.144391</td>\n",
              "    </tr>\n",
              "    <tr>\n",
              "      <th>208</th>\n",
              "      <td>Zambia</td>\n",
              "      <td>Africa</td>\n",
              "      <td>18383956.0</td>\n",
              "      <td>63.89</td>\n",
              "      <td>2.00</td>\n",
              "      <td>3689.251</td>\n",
              "      <td>6.782303e+10</td>\n",
              "      <td>12415.0</td>\n",
              "      <td>292.0</td>\n",
              "      <td>NaN</td>\n",
              "      <td>NaN</td>\n",
              "      <td>675.317108</td>\n",
              "      <td>15.883415</td>\n",
              "    </tr>\n",
              "    <tr>\n",
              "      <th>209</th>\n",
              "      <td>Zimbabwe</td>\n",
              "      <td>Africa</td>\n",
              "      <td>14862927.0</td>\n",
              "      <td>61.49</td>\n",
              "      <td>1.70</td>\n",
              "      <td>1899.775</td>\n",
              "      <td>2.823622e+10</td>\n",
              "      <td>6638.0</td>\n",
              "      <td>206.0</td>\n",
              "      <td>97272.0</td>\n",
              "      <td>6544.605918</td>\n",
              "      <td>446.614587</td>\n",
              "      <td>13.859989</td>\n",
              "    </tr>\n",
              "  </tbody>\n",
              "</table>\n",
              "<p>210 rows × 13 columns</p>\n",
              "</div>\n",
              "      <button class=\"colab-df-convert\" onclick=\"convertToInteractive('df-9664bd31-889d-4299-928e-c67eb2be8acd')\"\n",
              "              title=\"Convert this dataframe to an interactive table.\"\n",
              "              style=\"display:none;\">\n",
              "        \n",
              "  <svg xmlns=\"http://www.w3.org/2000/svg\" height=\"24px\"viewBox=\"0 0 24 24\"\n",
              "       width=\"24px\">\n",
              "    <path d=\"M0 0h24v24H0V0z\" fill=\"none\"/>\n",
              "    <path d=\"M18.56 5.44l.94 2.06.94-2.06 2.06-.94-2.06-.94-.94-2.06-.94 2.06-2.06.94zm-11 1L8.5 8.5l.94-2.06 2.06-.94-2.06-.94L8.5 2.5l-.94 2.06-2.06.94zm10 10l.94 2.06.94-2.06 2.06-.94-2.06-.94-.94-2.06-.94 2.06-2.06.94z\"/><path d=\"M17.41 7.96l-1.37-1.37c-.4-.4-.92-.59-1.43-.59-.52 0-1.04.2-1.43.59L10.3 9.45l-7.72 7.72c-.78.78-.78 2.05 0 2.83L4 21.41c.39.39.9.59 1.41.59.51 0 1.02-.2 1.41-.59l7.78-7.78 2.81-2.81c.8-.78.8-2.07 0-2.86zM5.41 20L4 18.59l7.72-7.72 1.47 1.35L5.41 20z\"/>\n",
              "  </svg>\n",
              "      </button>\n",
              "      \n",
              "  <style>\n",
              "    .colab-df-container {\n",
              "      display:flex;\n",
              "      flex-wrap:wrap;\n",
              "      gap: 12px;\n",
              "    }\n",
              "\n",
              "    .colab-df-convert {\n",
              "      background-color: #E8F0FE;\n",
              "      border: none;\n",
              "      border-radius: 50%;\n",
              "      cursor: pointer;\n",
              "      display: none;\n",
              "      fill: #1967D2;\n",
              "      height: 32px;\n",
              "      padding: 0 0 0 0;\n",
              "      width: 32px;\n",
              "    }\n",
              "\n",
              "    .colab-df-convert:hover {\n",
              "      background-color: #E2EBFA;\n",
              "      box-shadow: 0px 1px 2px rgba(60, 64, 67, 0.3), 0px 1px 3px 1px rgba(60, 64, 67, 0.15);\n",
              "      fill: #174EA6;\n",
              "    }\n",
              "\n",
              "    [theme=dark] .colab-df-convert {\n",
              "      background-color: #3B4455;\n",
              "      fill: #D2E3FC;\n",
              "    }\n",
              "\n",
              "    [theme=dark] .colab-df-convert:hover {\n",
              "      background-color: #434B5C;\n",
              "      box-shadow: 0px 1px 3px 1px rgba(0, 0, 0, 0.15);\n",
              "      filter: drop-shadow(0px 1px 2px rgba(0, 0, 0, 0.3));\n",
              "      fill: #FFFFFF;\n",
              "    }\n",
              "  </style>\n",
              "\n",
              "      <script>\n",
              "        const buttonEl =\n",
              "          document.querySelector('#df-9664bd31-889d-4299-928e-c67eb2be8acd button.colab-df-convert');\n",
              "        buttonEl.style.display =\n",
              "          google.colab.kernel.accessAllowed ? 'block' : 'none';\n",
              "\n",
              "        async function convertToInteractive(key) {\n",
              "          const element = document.querySelector('#df-9664bd31-889d-4299-928e-c67eb2be8acd');\n",
              "          const dataTable =\n",
              "            await google.colab.kernel.invokeFunction('convertToInteractive',\n",
              "                                                     [key], {});\n",
              "          if (!dataTable) return;\n",
              "\n",
              "          const docLinkHtml = 'Like what you see? Visit the ' +\n",
              "            '<a target=\"_blank\" href=https://colab.research.google.com/notebooks/data_table.ipynb>data table notebook</a>'\n",
              "            + ' to learn more about interactive tables.';\n",
              "          element.innerHTML = '';\n",
              "          dataTable['output_type'] = 'display_data';\n",
              "          await google.colab.output.renderOutput(dataTable, element);\n",
              "          const docLink = document.createElement('div');\n",
              "          docLink.innerHTML = docLinkHtml;\n",
              "          element.appendChild(docLink);\n",
              "        }\n",
              "      </script>\n",
              "    </div>\n",
              "  </div>\n",
              "  "
            ]
          },
          "metadata": {},
          "execution_count": 54
        }
      ],
      "source": [
        "combined_df"
      ]
    },
    {
      "cell_type": "code",
      "execution_count": 55,
      "metadata": {
        "id": "IKmGakoKAAUd",
        "colab": {
          "base_uri": "https://localhost:8080/"
        },
        "outputId": "49ed8cbc-de30-4611-de11-7c0fbcb411ee"
      },
      "outputs": [
        {
          "output_type": "stream",
          "name": "stdout",
          "text": [
            "[jovian] Detected Colab notebook...\u001b[0m\n",
            "[jovian] jovian.commit() is no longer required on Google Colab. If you ran this notebook from Jovian, \n",
            "then just save this file in Colab using Ctrl+S/Cmd+S and it will be updated on Jovian. \n",
            "Also, you can also delete this cell, it's no longer necessary.\u001b[0m\n"
          ]
        }
      ],
      "source": [
        "jovian.commit(project='pandas-practice-assignment', environment=None)"
      ]
    },
    {
      "cell_type": "markdown",
      "metadata": {
        "id": "MRoLTy9-AAUd"
      },
      "source": [
        "**Q11: Create a dataframe with 10 countires that have highest number of tests per million people.**"
      ]
    },
    {
      "cell_type": "code",
      "execution_count": 60,
      "metadata": {
        "id": "ikKM_QKvAAUd"
      },
      "outputs": [],
      "source": [
        "highest_tests_df = combined_df.sort_values(\"tests_per_million\", ascending = False).head(10)"
      ]
    },
    {
      "cell_type": "code",
      "execution_count": 61,
      "metadata": {
        "id": "rPo1zTgvAAUd",
        "colab": {
          "base_uri": "https://localhost:8080/",
          "height": 462
        },
        "outputId": "c464a92b-8411-4807-f81f-aaae8e57f245"
      },
      "outputs": [
        {
          "output_type": "execute_result",
          "data": {
            "text/plain": [
              "                 location      continent   population  life_expectancy  \\\n",
              "197  United Arab Emirates           Asia    9890400.0            77.97   \n",
              "14                Bahrain           Asia    1701583.0            77.29   \n",
              "115            Luxembourg         Europe     625976.0            82.25   \n",
              "122                 Malta         Europe     441539.0            82.53   \n",
              "53                Denmark         Europe    5792203.0            80.90   \n",
              "96                 Israel           Asia    8655541.0            82.97   \n",
              "89                Iceland         Europe     341250.0            82.99   \n",
              "157                Russia         Europe  145934460.0            72.58   \n",
              "199         United States  North America  331002647.0            78.86   \n",
              "10              Australia        Oceania   25499881.0            83.44   \n",
              "\n",
              "     hospital_beds_per_thousand  gdp_per_capita           gdp  total_cases  \\\n",
              "197                       1.200       67293.483  6.655595e+11      71540.0   \n",
              "14                        2.000       43290.705  7.366273e+10      52440.0   \n",
              "115                       4.510       94277.965  5.901574e+10       7928.0   \n",
              "122                       4.485       36513.323  1.612206e+10       1931.0   \n",
              "53                        2.500       46682.515  2.703946e+11      17195.0   \n",
              "96                        2.990       33132.320  2.867782e+11     122539.0   \n",
              "89                        2.910       46482.958  1.586231e+10       2121.0   \n",
              "157                       8.050       24765.954  3.614206e+12    1005000.0   \n",
              "199                       2.770       54225.446  1.794877e+13    6114406.0   \n",
              "10                        3.840       44648.710  1.138537e+12      25923.0   \n",
              "\n",
              "     total_deaths  total_tests  tests_per_million  cases_per_million  \\\n",
              "197         387.0    7177430.0      725696.635121        7233.276713   \n",
              "14          190.0    1118837.0      657527.137965       30818.361490   \n",
              "115         124.0     385820.0      616349.508607       12665.022301   \n",
              "122          13.0     188539.0      427004.183096        4373.339614   \n",
              "53          626.0    2447911.0      422621.755488        2968.645954   \n",
              "96          969.0    2353984.0      271962.665303       14157.289533   \n",
              "89           10.0      88829.0      260304.761905        6215.384615   \n",
              "157       17414.0   37176827.0      254750.159763        6886.653091   \n",
              "199      185744.0   83898416.0      253467.507769       18472.377957   \n",
              "10          663.0    6255797.0      245326.517406        1016.592979   \n",
              "\n",
              "     deaths_per_million  \n",
              "197           39.128852  \n",
              "14           111.660730  \n",
              "115          198.090662  \n",
              "122           29.442473  \n",
              "53           108.076323  \n",
              "96           111.951408  \n",
              "89            29.304029  \n",
              "157          119.327539  \n",
              "199          561.155633  \n",
              "10            26.000121  "
            ],
            "text/html": [
              "\n",
              "  <div id=\"df-515c2867-96bc-4ff7-b05d-98510bc92708\">\n",
              "    <div class=\"colab-df-container\">\n",
              "      <div>\n",
              "<style scoped>\n",
              "    .dataframe tbody tr th:only-of-type {\n",
              "        vertical-align: middle;\n",
              "    }\n",
              "\n",
              "    .dataframe tbody tr th {\n",
              "        vertical-align: top;\n",
              "    }\n",
              "\n",
              "    .dataframe thead th {\n",
              "        text-align: right;\n",
              "    }\n",
              "</style>\n",
              "<table border=\"1\" class=\"dataframe\">\n",
              "  <thead>\n",
              "    <tr style=\"text-align: right;\">\n",
              "      <th></th>\n",
              "      <th>location</th>\n",
              "      <th>continent</th>\n",
              "      <th>population</th>\n",
              "      <th>life_expectancy</th>\n",
              "      <th>hospital_beds_per_thousand</th>\n",
              "      <th>gdp_per_capita</th>\n",
              "      <th>gdp</th>\n",
              "      <th>total_cases</th>\n",
              "      <th>total_deaths</th>\n",
              "      <th>total_tests</th>\n",
              "      <th>tests_per_million</th>\n",
              "      <th>cases_per_million</th>\n",
              "      <th>deaths_per_million</th>\n",
              "    </tr>\n",
              "  </thead>\n",
              "  <tbody>\n",
              "    <tr>\n",
              "      <th>197</th>\n",
              "      <td>United Arab Emirates</td>\n",
              "      <td>Asia</td>\n",
              "      <td>9890400.0</td>\n",
              "      <td>77.97</td>\n",
              "      <td>1.200</td>\n",
              "      <td>67293.483</td>\n",
              "      <td>6.655595e+11</td>\n",
              "      <td>71540.0</td>\n",
              "      <td>387.0</td>\n",
              "      <td>7177430.0</td>\n",
              "      <td>725696.635121</td>\n",
              "      <td>7233.276713</td>\n",
              "      <td>39.128852</td>\n",
              "    </tr>\n",
              "    <tr>\n",
              "      <th>14</th>\n",
              "      <td>Bahrain</td>\n",
              "      <td>Asia</td>\n",
              "      <td>1701583.0</td>\n",
              "      <td>77.29</td>\n",
              "      <td>2.000</td>\n",
              "      <td>43290.705</td>\n",
              "      <td>7.366273e+10</td>\n",
              "      <td>52440.0</td>\n",
              "      <td>190.0</td>\n",
              "      <td>1118837.0</td>\n",
              "      <td>657527.137965</td>\n",
              "      <td>30818.361490</td>\n",
              "      <td>111.660730</td>\n",
              "    </tr>\n",
              "    <tr>\n",
              "      <th>115</th>\n",
              "      <td>Luxembourg</td>\n",
              "      <td>Europe</td>\n",
              "      <td>625976.0</td>\n",
              "      <td>82.25</td>\n",
              "      <td>4.510</td>\n",
              "      <td>94277.965</td>\n",
              "      <td>5.901574e+10</td>\n",
              "      <td>7928.0</td>\n",
              "      <td>124.0</td>\n",
              "      <td>385820.0</td>\n",
              "      <td>616349.508607</td>\n",
              "      <td>12665.022301</td>\n",
              "      <td>198.090662</td>\n",
              "    </tr>\n",
              "    <tr>\n",
              "      <th>122</th>\n",
              "      <td>Malta</td>\n",
              "      <td>Europe</td>\n",
              "      <td>441539.0</td>\n",
              "      <td>82.53</td>\n",
              "      <td>4.485</td>\n",
              "      <td>36513.323</td>\n",
              "      <td>1.612206e+10</td>\n",
              "      <td>1931.0</td>\n",
              "      <td>13.0</td>\n",
              "      <td>188539.0</td>\n",
              "      <td>427004.183096</td>\n",
              "      <td>4373.339614</td>\n",
              "      <td>29.442473</td>\n",
              "    </tr>\n",
              "    <tr>\n",
              "      <th>53</th>\n",
              "      <td>Denmark</td>\n",
              "      <td>Europe</td>\n",
              "      <td>5792203.0</td>\n",
              "      <td>80.90</td>\n",
              "      <td>2.500</td>\n",
              "      <td>46682.515</td>\n",
              "      <td>2.703946e+11</td>\n",
              "      <td>17195.0</td>\n",
              "      <td>626.0</td>\n",
              "      <td>2447911.0</td>\n",
              "      <td>422621.755488</td>\n",
              "      <td>2968.645954</td>\n",
              "      <td>108.076323</td>\n",
              "    </tr>\n",
              "    <tr>\n",
              "      <th>96</th>\n",
              "      <td>Israel</td>\n",
              "      <td>Asia</td>\n",
              "      <td>8655541.0</td>\n",
              "      <td>82.97</td>\n",
              "      <td>2.990</td>\n",
              "      <td>33132.320</td>\n",
              "      <td>2.867782e+11</td>\n",
              "      <td>122539.0</td>\n",
              "      <td>969.0</td>\n",
              "      <td>2353984.0</td>\n",
              "      <td>271962.665303</td>\n",
              "      <td>14157.289533</td>\n",
              "      <td>111.951408</td>\n",
              "    </tr>\n",
              "    <tr>\n",
              "      <th>89</th>\n",
              "      <td>Iceland</td>\n",
              "      <td>Europe</td>\n",
              "      <td>341250.0</td>\n",
              "      <td>82.99</td>\n",
              "      <td>2.910</td>\n",
              "      <td>46482.958</td>\n",
              "      <td>1.586231e+10</td>\n",
              "      <td>2121.0</td>\n",
              "      <td>10.0</td>\n",
              "      <td>88829.0</td>\n",
              "      <td>260304.761905</td>\n",
              "      <td>6215.384615</td>\n",
              "      <td>29.304029</td>\n",
              "    </tr>\n",
              "    <tr>\n",
              "      <th>157</th>\n",
              "      <td>Russia</td>\n",
              "      <td>Europe</td>\n",
              "      <td>145934460.0</td>\n",
              "      <td>72.58</td>\n",
              "      <td>8.050</td>\n",
              "      <td>24765.954</td>\n",
              "      <td>3.614206e+12</td>\n",
              "      <td>1005000.0</td>\n",
              "      <td>17414.0</td>\n",
              "      <td>37176827.0</td>\n",
              "      <td>254750.159763</td>\n",
              "      <td>6886.653091</td>\n",
              "      <td>119.327539</td>\n",
              "    </tr>\n",
              "    <tr>\n",
              "      <th>199</th>\n",
              "      <td>United States</td>\n",
              "      <td>North America</td>\n",
              "      <td>331002647.0</td>\n",
              "      <td>78.86</td>\n",
              "      <td>2.770</td>\n",
              "      <td>54225.446</td>\n",
              "      <td>1.794877e+13</td>\n",
              "      <td>6114406.0</td>\n",
              "      <td>185744.0</td>\n",
              "      <td>83898416.0</td>\n",
              "      <td>253467.507769</td>\n",
              "      <td>18472.377957</td>\n",
              "      <td>561.155633</td>\n",
              "    </tr>\n",
              "    <tr>\n",
              "      <th>10</th>\n",
              "      <td>Australia</td>\n",
              "      <td>Oceania</td>\n",
              "      <td>25499881.0</td>\n",
              "      <td>83.44</td>\n",
              "      <td>3.840</td>\n",
              "      <td>44648.710</td>\n",
              "      <td>1.138537e+12</td>\n",
              "      <td>25923.0</td>\n",
              "      <td>663.0</td>\n",
              "      <td>6255797.0</td>\n",
              "      <td>245326.517406</td>\n",
              "      <td>1016.592979</td>\n",
              "      <td>26.000121</td>\n",
              "    </tr>\n",
              "  </tbody>\n",
              "</table>\n",
              "</div>\n",
              "      <button class=\"colab-df-convert\" onclick=\"convertToInteractive('df-515c2867-96bc-4ff7-b05d-98510bc92708')\"\n",
              "              title=\"Convert this dataframe to an interactive table.\"\n",
              "              style=\"display:none;\">\n",
              "        \n",
              "  <svg xmlns=\"http://www.w3.org/2000/svg\" height=\"24px\"viewBox=\"0 0 24 24\"\n",
              "       width=\"24px\">\n",
              "    <path d=\"M0 0h24v24H0V0z\" fill=\"none\"/>\n",
              "    <path d=\"M18.56 5.44l.94 2.06.94-2.06 2.06-.94-2.06-.94-.94-2.06-.94 2.06-2.06.94zm-11 1L8.5 8.5l.94-2.06 2.06-.94-2.06-.94L8.5 2.5l-.94 2.06-2.06.94zm10 10l.94 2.06.94-2.06 2.06-.94-2.06-.94-.94-2.06-.94 2.06-2.06.94z\"/><path d=\"M17.41 7.96l-1.37-1.37c-.4-.4-.92-.59-1.43-.59-.52 0-1.04.2-1.43.59L10.3 9.45l-7.72 7.72c-.78.78-.78 2.05 0 2.83L4 21.41c.39.39.9.59 1.41.59.51 0 1.02-.2 1.41-.59l7.78-7.78 2.81-2.81c.8-.78.8-2.07 0-2.86zM5.41 20L4 18.59l7.72-7.72 1.47 1.35L5.41 20z\"/>\n",
              "  </svg>\n",
              "      </button>\n",
              "      \n",
              "  <style>\n",
              "    .colab-df-container {\n",
              "      display:flex;\n",
              "      flex-wrap:wrap;\n",
              "      gap: 12px;\n",
              "    }\n",
              "\n",
              "    .colab-df-convert {\n",
              "      background-color: #E8F0FE;\n",
              "      border: none;\n",
              "      border-radius: 50%;\n",
              "      cursor: pointer;\n",
              "      display: none;\n",
              "      fill: #1967D2;\n",
              "      height: 32px;\n",
              "      padding: 0 0 0 0;\n",
              "      width: 32px;\n",
              "    }\n",
              "\n",
              "    .colab-df-convert:hover {\n",
              "      background-color: #E2EBFA;\n",
              "      box-shadow: 0px 1px 2px rgba(60, 64, 67, 0.3), 0px 1px 3px 1px rgba(60, 64, 67, 0.15);\n",
              "      fill: #174EA6;\n",
              "    }\n",
              "\n",
              "    [theme=dark] .colab-df-convert {\n",
              "      background-color: #3B4455;\n",
              "      fill: #D2E3FC;\n",
              "    }\n",
              "\n",
              "    [theme=dark] .colab-df-convert:hover {\n",
              "      background-color: #434B5C;\n",
              "      box-shadow: 0px 1px 3px 1px rgba(0, 0, 0, 0.15);\n",
              "      filter: drop-shadow(0px 1px 2px rgba(0, 0, 0, 0.3));\n",
              "      fill: #FFFFFF;\n",
              "    }\n",
              "  </style>\n",
              "\n",
              "      <script>\n",
              "        const buttonEl =\n",
              "          document.querySelector('#df-515c2867-96bc-4ff7-b05d-98510bc92708 button.colab-df-convert');\n",
              "        buttonEl.style.display =\n",
              "          google.colab.kernel.accessAllowed ? 'block' : 'none';\n",
              "\n",
              "        async function convertToInteractive(key) {\n",
              "          const element = document.querySelector('#df-515c2867-96bc-4ff7-b05d-98510bc92708');\n",
              "          const dataTable =\n",
              "            await google.colab.kernel.invokeFunction('convertToInteractive',\n",
              "                                                     [key], {});\n",
              "          if (!dataTable) return;\n",
              "\n",
              "          const docLinkHtml = 'Like what you see? Visit the ' +\n",
              "            '<a target=\"_blank\" href=https://colab.research.google.com/notebooks/data_table.ipynb>data table notebook</a>'\n",
              "            + ' to learn more about interactive tables.';\n",
              "          element.innerHTML = '';\n",
              "          dataTable['output_type'] = 'display_data';\n",
              "          await google.colab.output.renderOutput(dataTable, element);\n",
              "          const docLink = document.createElement('div');\n",
              "          docLink.innerHTML = docLinkHtml;\n",
              "          element.appendChild(docLink);\n",
              "        }\n",
              "      </script>\n",
              "    </div>\n",
              "  </div>\n",
              "  "
            ]
          },
          "metadata": {},
          "execution_count": 61
        }
      ],
      "source": [
        "highest_tests_df"
      ]
    },
    {
      "cell_type": "code",
      "execution_count": 62,
      "metadata": {
        "id": "47DhveGOAAUd",
        "colab": {
          "base_uri": "https://localhost:8080/"
        },
        "outputId": "3ae15828-9f46-4c20-9488-cca6c9f850a7"
      },
      "outputs": [
        {
          "output_type": "stream",
          "name": "stdout",
          "text": [
            "[jovian] Detected Colab notebook...\u001b[0m\n",
            "[jovian] jovian.commit() is no longer required on Google Colab. If you ran this notebook from Jovian, \n",
            "then just save this file in Colab using Ctrl+S/Cmd+S and it will be updated on Jovian. \n",
            "Also, you can also delete this cell, it's no longer necessary.\u001b[0m\n"
          ]
        }
      ],
      "source": [
        "jovian.commit(project='pandas-practice-assignment', environment=None)"
      ]
    },
    {
      "cell_type": "markdown",
      "metadata": {
        "id": "j2PoGI-SAAUe"
      },
      "source": [
        "**Q12: Create a dataframe with 10 countires that have highest number of positive cases per million people.**"
      ]
    },
    {
      "cell_type": "code",
      "execution_count": 63,
      "metadata": {
        "id": "u4fN8xKOAAUe"
      },
      "outputs": [],
      "source": [
        "highest_cases_df = combined_df.sort_values(\"cases_per_million\", ascending = False).head(10)"
      ]
    },
    {
      "cell_type": "code",
      "execution_count": 64,
      "metadata": {
        "id": "ComYvfzuAAUe",
        "colab": {
          "base_uri": "https://localhost:8080/",
          "height": 549
        },
        "outputId": "a5deed33-bbe5-4370-b42b-44d024d5cb0f"
      },
      "outputs": [
        {
          "output_type": "execute_result",
          "data": {
            "text/plain": [
              "          location      continent   population  life_expectancy  \\\n",
              "155          Qatar           Asia    2881060.0            80.23   \n",
              "14         Bahrain           Asia    1701583.0            77.29   \n",
              "147         Panama  North America    4314768.0            78.51   \n",
              "40           Chile  South America   19116209.0            80.18   \n",
              "162     San Marino         Europe      33938.0            84.97   \n",
              "9            Aruba  North America     106766.0            76.29   \n",
              "105         Kuwait           Asia    4270563.0            75.49   \n",
              "150           Peru  South America   32971846.0            76.74   \n",
              "27          Brazil  South America  212559409.0            75.88   \n",
              "199  United States  North America  331002647.0            78.86   \n",
              "\n",
              "     hospital_beds_per_thousand  gdp_per_capita           gdp  total_cases  \\\n",
              "155                        1.20      116935.600  3.368985e+11     119206.0   \n",
              "14                         2.00       43290.705  7.366273e+10      52440.0   \n",
              "147                        2.30       22267.037  9.607710e+10      94084.0   \n",
              "40                         2.11       22767.037  4.352194e+11     414739.0   \n",
              "162                        3.80       56861.470  1.929765e+09        735.0   \n",
              "9                           NaN       35973.781  3.840777e+09       2211.0   \n",
              "105                        2.00       65530.537  2.798523e+11      86478.0   \n",
              "150                        1.60       12236.706  4.034668e+11     663437.0   \n",
              "27                         2.20       14103.452  2.997821e+12    3997865.0   \n",
              "199                        2.77       54225.446  1.794877e+13    6114406.0   \n",
              "\n",
              "     total_deaths  total_tests  tests_per_million  cases_per_million  \\\n",
              "155         199.0     634745.0      220316.480740       41375.743650   \n",
              "14          190.0    1118837.0      657527.137965       30818.361490   \n",
              "147        2030.0     336345.0       77952.047480       21805.112117   \n",
              "40        11344.0    2458762.0      128621.841287       21695.671982   \n",
              "162          42.0          NaN                NaN       21657.139490   \n",
              "9            12.0          NaN                NaN       20708.839893   \n",
              "105         535.0     621616.0      145558.325682       20249.789079   \n",
              "150       29259.0     584232.0       17719.117092       20121.318048   \n",
              "27       123780.0    4797948.0       22572.268255       18808.224105   \n",
              "199      185744.0   83898416.0      253467.507769       18472.377957   \n",
              "\n",
              "     deaths_per_million  \n",
              "155           69.071800  \n",
              "14           111.660730  \n",
              "147          470.477208  \n",
              "40           593.423100  \n",
              "162         1237.550828  \n",
              "9            112.395332  \n",
              "105          125.276222  \n",
              "150          887.393445  \n",
              "27           582.331314  \n",
              "199          561.155633  "
            ],
            "text/html": [
              "\n",
              "  <div id=\"df-3dcacce4-03d4-4530-b17a-5d13f397ee04\">\n",
              "    <div class=\"colab-df-container\">\n",
              "      <div>\n",
              "<style scoped>\n",
              "    .dataframe tbody tr th:only-of-type {\n",
              "        vertical-align: middle;\n",
              "    }\n",
              "\n",
              "    .dataframe tbody tr th {\n",
              "        vertical-align: top;\n",
              "    }\n",
              "\n",
              "    .dataframe thead th {\n",
              "        text-align: right;\n",
              "    }\n",
              "</style>\n",
              "<table border=\"1\" class=\"dataframe\">\n",
              "  <thead>\n",
              "    <tr style=\"text-align: right;\">\n",
              "      <th></th>\n",
              "      <th>location</th>\n",
              "      <th>continent</th>\n",
              "      <th>population</th>\n",
              "      <th>life_expectancy</th>\n",
              "      <th>hospital_beds_per_thousand</th>\n",
              "      <th>gdp_per_capita</th>\n",
              "      <th>gdp</th>\n",
              "      <th>total_cases</th>\n",
              "      <th>total_deaths</th>\n",
              "      <th>total_tests</th>\n",
              "      <th>tests_per_million</th>\n",
              "      <th>cases_per_million</th>\n",
              "      <th>deaths_per_million</th>\n",
              "    </tr>\n",
              "  </thead>\n",
              "  <tbody>\n",
              "    <tr>\n",
              "      <th>155</th>\n",
              "      <td>Qatar</td>\n",
              "      <td>Asia</td>\n",
              "      <td>2881060.0</td>\n",
              "      <td>80.23</td>\n",
              "      <td>1.20</td>\n",
              "      <td>116935.600</td>\n",
              "      <td>3.368985e+11</td>\n",
              "      <td>119206.0</td>\n",
              "      <td>199.0</td>\n",
              "      <td>634745.0</td>\n",
              "      <td>220316.480740</td>\n",
              "      <td>41375.743650</td>\n",
              "      <td>69.071800</td>\n",
              "    </tr>\n",
              "    <tr>\n",
              "      <th>14</th>\n",
              "      <td>Bahrain</td>\n",
              "      <td>Asia</td>\n",
              "      <td>1701583.0</td>\n",
              "      <td>77.29</td>\n",
              "      <td>2.00</td>\n",
              "      <td>43290.705</td>\n",
              "      <td>7.366273e+10</td>\n",
              "      <td>52440.0</td>\n",
              "      <td>190.0</td>\n",
              "      <td>1118837.0</td>\n",
              "      <td>657527.137965</td>\n",
              "      <td>30818.361490</td>\n",
              "      <td>111.660730</td>\n",
              "    </tr>\n",
              "    <tr>\n",
              "      <th>147</th>\n",
              "      <td>Panama</td>\n",
              "      <td>North America</td>\n",
              "      <td>4314768.0</td>\n",
              "      <td>78.51</td>\n",
              "      <td>2.30</td>\n",
              "      <td>22267.037</td>\n",
              "      <td>9.607710e+10</td>\n",
              "      <td>94084.0</td>\n",
              "      <td>2030.0</td>\n",
              "      <td>336345.0</td>\n",
              "      <td>77952.047480</td>\n",
              "      <td>21805.112117</td>\n",
              "      <td>470.477208</td>\n",
              "    </tr>\n",
              "    <tr>\n",
              "      <th>40</th>\n",
              "      <td>Chile</td>\n",
              "      <td>South America</td>\n",
              "      <td>19116209.0</td>\n",
              "      <td>80.18</td>\n",
              "      <td>2.11</td>\n",
              "      <td>22767.037</td>\n",
              "      <td>4.352194e+11</td>\n",
              "      <td>414739.0</td>\n",
              "      <td>11344.0</td>\n",
              "      <td>2458762.0</td>\n",
              "      <td>128621.841287</td>\n",
              "      <td>21695.671982</td>\n",
              "      <td>593.423100</td>\n",
              "    </tr>\n",
              "    <tr>\n",
              "      <th>162</th>\n",
              "      <td>San Marino</td>\n",
              "      <td>Europe</td>\n",
              "      <td>33938.0</td>\n",
              "      <td>84.97</td>\n",
              "      <td>3.80</td>\n",
              "      <td>56861.470</td>\n",
              "      <td>1.929765e+09</td>\n",
              "      <td>735.0</td>\n",
              "      <td>42.0</td>\n",
              "      <td>NaN</td>\n",
              "      <td>NaN</td>\n",
              "      <td>21657.139490</td>\n",
              "      <td>1237.550828</td>\n",
              "    </tr>\n",
              "    <tr>\n",
              "      <th>9</th>\n",
              "      <td>Aruba</td>\n",
              "      <td>North America</td>\n",
              "      <td>106766.0</td>\n",
              "      <td>76.29</td>\n",
              "      <td>NaN</td>\n",
              "      <td>35973.781</td>\n",
              "      <td>3.840777e+09</td>\n",
              "      <td>2211.0</td>\n",
              "      <td>12.0</td>\n",
              "      <td>NaN</td>\n",
              "      <td>NaN</td>\n",
              "      <td>20708.839893</td>\n",
              "      <td>112.395332</td>\n",
              "    </tr>\n",
              "    <tr>\n",
              "      <th>105</th>\n",
              "      <td>Kuwait</td>\n",
              "      <td>Asia</td>\n",
              "      <td>4270563.0</td>\n",
              "      <td>75.49</td>\n",
              "      <td>2.00</td>\n",
              "      <td>65530.537</td>\n",
              "      <td>2.798523e+11</td>\n",
              "      <td>86478.0</td>\n",
              "      <td>535.0</td>\n",
              "      <td>621616.0</td>\n",
              "      <td>145558.325682</td>\n",
              "      <td>20249.789079</td>\n",
              "      <td>125.276222</td>\n",
              "    </tr>\n",
              "    <tr>\n",
              "      <th>150</th>\n",
              "      <td>Peru</td>\n",
              "      <td>South America</td>\n",
              "      <td>32971846.0</td>\n",
              "      <td>76.74</td>\n",
              "      <td>1.60</td>\n",
              "      <td>12236.706</td>\n",
              "      <td>4.034668e+11</td>\n",
              "      <td>663437.0</td>\n",
              "      <td>29259.0</td>\n",
              "      <td>584232.0</td>\n",
              "      <td>17719.117092</td>\n",
              "      <td>20121.318048</td>\n",
              "      <td>887.393445</td>\n",
              "    </tr>\n",
              "    <tr>\n",
              "      <th>27</th>\n",
              "      <td>Brazil</td>\n",
              "      <td>South America</td>\n",
              "      <td>212559409.0</td>\n",
              "      <td>75.88</td>\n",
              "      <td>2.20</td>\n",
              "      <td>14103.452</td>\n",
              "      <td>2.997821e+12</td>\n",
              "      <td>3997865.0</td>\n",
              "      <td>123780.0</td>\n",
              "      <td>4797948.0</td>\n",
              "      <td>22572.268255</td>\n",
              "      <td>18808.224105</td>\n",
              "      <td>582.331314</td>\n",
              "    </tr>\n",
              "    <tr>\n",
              "      <th>199</th>\n",
              "      <td>United States</td>\n",
              "      <td>North America</td>\n",
              "      <td>331002647.0</td>\n",
              "      <td>78.86</td>\n",
              "      <td>2.77</td>\n",
              "      <td>54225.446</td>\n",
              "      <td>1.794877e+13</td>\n",
              "      <td>6114406.0</td>\n",
              "      <td>185744.0</td>\n",
              "      <td>83898416.0</td>\n",
              "      <td>253467.507769</td>\n",
              "      <td>18472.377957</td>\n",
              "      <td>561.155633</td>\n",
              "    </tr>\n",
              "  </tbody>\n",
              "</table>\n",
              "</div>\n",
              "      <button class=\"colab-df-convert\" onclick=\"convertToInteractive('df-3dcacce4-03d4-4530-b17a-5d13f397ee04')\"\n",
              "              title=\"Convert this dataframe to an interactive table.\"\n",
              "              style=\"display:none;\">\n",
              "        \n",
              "  <svg xmlns=\"http://www.w3.org/2000/svg\" height=\"24px\"viewBox=\"0 0 24 24\"\n",
              "       width=\"24px\">\n",
              "    <path d=\"M0 0h24v24H0V0z\" fill=\"none\"/>\n",
              "    <path d=\"M18.56 5.44l.94 2.06.94-2.06 2.06-.94-2.06-.94-.94-2.06-.94 2.06-2.06.94zm-11 1L8.5 8.5l.94-2.06 2.06-.94-2.06-.94L8.5 2.5l-.94 2.06-2.06.94zm10 10l.94 2.06.94-2.06 2.06-.94-2.06-.94-.94-2.06-.94 2.06-2.06.94z\"/><path d=\"M17.41 7.96l-1.37-1.37c-.4-.4-.92-.59-1.43-.59-.52 0-1.04.2-1.43.59L10.3 9.45l-7.72 7.72c-.78.78-.78 2.05 0 2.83L4 21.41c.39.39.9.59 1.41.59.51 0 1.02-.2 1.41-.59l7.78-7.78 2.81-2.81c.8-.78.8-2.07 0-2.86zM5.41 20L4 18.59l7.72-7.72 1.47 1.35L5.41 20z\"/>\n",
              "  </svg>\n",
              "      </button>\n",
              "      \n",
              "  <style>\n",
              "    .colab-df-container {\n",
              "      display:flex;\n",
              "      flex-wrap:wrap;\n",
              "      gap: 12px;\n",
              "    }\n",
              "\n",
              "    .colab-df-convert {\n",
              "      background-color: #E8F0FE;\n",
              "      border: none;\n",
              "      border-radius: 50%;\n",
              "      cursor: pointer;\n",
              "      display: none;\n",
              "      fill: #1967D2;\n",
              "      height: 32px;\n",
              "      padding: 0 0 0 0;\n",
              "      width: 32px;\n",
              "    }\n",
              "\n",
              "    .colab-df-convert:hover {\n",
              "      background-color: #E2EBFA;\n",
              "      box-shadow: 0px 1px 2px rgba(60, 64, 67, 0.3), 0px 1px 3px 1px rgba(60, 64, 67, 0.15);\n",
              "      fill: #174EA6;\n",
              "    }\n",
              "\n",
              "    [theme=dark] .colab-df-convert {\n",
              "      background-color: #3B4455;\n",
              "      fill: #D2E3FC;\n",
              "    }\n",
              "\n",
              "    [theme=dark] .colab-df-convert:hover {\n",
              "      background-color: #434B5C;\n",
              "      box-shadow: 0px 1px 3px 1px rgba(0, 0, 0, 0.15);\n",
              "      filter: drop-shadow(0px 1px 2px rgba(0, 0, 0, 0.3));\n",
              "      fill: #FFFFFF;\n",
              "    }\n",
              "  </style>\n",
              "\n",
              "      <script>\n",
              "        const buttonEl =\n",
              "          document.querySelector('#df-3dcacce4-03d4-4530-b17a-5d13f397ee04 button.colab-df-convert');\n",
              "        buttonEl.style.display =\n",
              "          google.colab.kernel.accessAllowed ? 'block' : 'none';\n",
              "\n",
              "        async function convertToInteractive(key) {\n",
              "          const element = document.querySelector('#df-3dcacce4-03d4-4530-b17a-5d13f397ee04');\n",
              "          const dataTable =\n",
              "            await google.colab.kernel.invokeFunction('convertToInteractive',\n",
              "                                                     [key], {});\n",
              "          if (!dataTable) return;\n",
              "\n",
              "          const docLinkHtml = 'Like what you see? Visit the ' +\n",
              "            '<a target=\"_blank\" href=https://colab.research.google.com/notebooks/data_table.ipynb>data table notebook</a>'\n",
              "            + ' to learn more about interactive tables.';\n",
              "          element.innerHTML = '';\n",
              "          dataTable['output_type'] = 'display_data';\n",
              "          await google.colab.output.renderOutput(dataTable, element);\n",
              "          const docLink = document.createElement('div');\n",
              "          docLink.innerHTML = docLinkHtml;\n",
              "          element.appendChild(docLink);\n",
              "        }\n",
              "      </script>\n",
              "    </div>\n",
              "  </div>\n",
              "  "
            ]
          },
          "metadata": {},
          "execution_count": 64
        }
      ],
      "source": [
        "highest_cases_df"
      ]
    },
    {
      "cell_type": "code",
      "execution_count": 65,
      "metadata": {
        "id": "yQDPJ_MWAAUe",
        "colab": {
          "base_uri": "https://localhost:8080/"
        },
        "outputId": "3c37dca1-d7d9-4e07-95b9-b17433387bab"
      },
      "outputs": [
        {
          "output_type": "stream",
          "name": "stdout",
          "text": [
            "[jovian] Detected Colab notebook...\u001b[0m\n",
            "[jovian] jovian.commit() is no longer required on Google Colab. If you ran this notebook from Jovian, \n",
            "then just save this file in Colab using Ctrl+S/Cmd+S and it will be updated on Jovian. \n",
            "Also, you can also delete this cell, it's no longer necessary.\u001b[0m\n"
          ]
        }
      ],
      "source": [
        "jovian.commit(project='pandas-practice-assignment', environment=None)"
      ]
    },
    {
      "cell_type": "markdown",
      "metadata": {
        "id": "l379M-gxAAUe"
      },
      "source": [
        "**Q13: Create a dataframe with 10 countires that have highest number of deaths cases per million people?**"
      ]
    },
    {
      "cell_type": "code",
      "execution_count": 66,
      "metadata": {
        "id": "bH05vrXxAAUe"
      },
      "outputs": [],
      "source": [
        "highest_deaths_df = combined_df.sort_values(\"deaths_per_million\", ascending = False).head(10)"
      ]
    },
    {
      "cell_type": "code",
      "execution_count": 67,
      "metadata": {
        "id": "KFdf10TdAAUe",
        "colab": {
          "base_uri": "https://localhost:8080/",
          "height": 514
        },
        "outputId": "fb90ea5d-31cc-4dd9-f9d9-5f0c606ac91b"
      },
      "outputs": [
        {
          "output_type": "execute_result",
          "data": {
            "text/plain": [
              "           location      continent   population  life_expectancy  \\\n",
              "162      San Marino         Europe      33938.0            84.97   \n",
              "150            Peru  South America   32971846.0            76.74   \n",
              "18          Belgium         Europe   11589616.0            81.63   \n",
              "3           Andorra         Europe      77265.0            83.73   \n",
              "177           Spain         Europe   46754783.0            83.56   \n",
              "198  United Kingdom         Europe   67886004.0            81.32   \n",
              "40            Chile  South America   19116209.0            80.18   \n",
              "97            Italy         Europe   60461828.0            83.51   \n",
              "27           Brazil  South America  212559409.0            75.88   \n",
              "182          Sweden         Europe   10099270.0            82.80   \n",
              "\n",
              "     hospital_beds_per_thousand  gdp_per_capita           gdp  total_cases  \\\n",
              "162                        3.80       56861.470  1.929765e+09        735.0   \n",
              "150                        1.60       12236.706  4.034668e+11     663437.0   \n",
              "18                         5.64       42658.576  4.943965e+11      85817.0   \n",
              "3                           NaN             NaN           NaN       1199.0   \n",
              "177                        2.97       34272.360  1.602397e+12     479554.0   \n",
              "198                        2.54       39753.244  2.698689e+12     338676.0   \n",
              "40                         2.11       22767.037  4.352194e+11     414739.0   \n",
              "97                         3.18       35220.084  2.129471e+12     271515.0   \n",
              "27                         2.20       14103.452  2.997821e+12    3997865.0   \n",
              "182                        2.22       46949.283  4.741535e+11      84532.0   \n",
              "\n",
              "     total_deaths  total_tests  tests_per_million  cases_per_million  \\\n",
              "162          42.0          NaN                NaN       21657.139490   \n",
              "150       29259.0     584232.0       17719.117092       20121.318048   \n",
              "18         9898.0    2281853.0      196887.713967        7404.645676   \n",
              "3            53.0          NaN                NaN       15518.022390   \n",
              "177       29194.0    6416533.0      137238.001939       10256.790198   \n",
              "198       41514.0   13447568.0      198090.434075        4988.892850   \n",
              "40        11344.0    2458762.0      128621.841287       21695.671982   \n",
              "97        35497.0    5214766.0       86248.897403        4490.684602   \n",
              "27       123780.0    4797948.0       22572.268255       18808.224105   \n",
              "182        5820.0          NaN                NaN        8370.109919   \n",
              "\n",
              "     deaths_per_million  \n",
              "162         1237.550828  \n",
              "150          887.393445  \n",
              "18           854.040375  \n",
              "3            685.950948  \n",
              "177          624.406705  \n",
              "198          611.525168  \n",
              "40           593.423100  \n",
              "97           587.097697  \n",
              "27           582.331314  \n",
              "182          576.279276  "
            ],
            "text/html": [
              "\n",
              "  <div id=\"df-13d7cd25-465a-4389-9d29-4ac002942d6e\">\n",
              "    <div class=\"colab-df-container\">\n",
              "      <div>\n",
              "<style scoped>\n",
              "    .dataframe tbody tr th:only-of-type {\n",
              "        vertical-align: middle;\n",
              "    }\n",
              "\n",
              "    .dataframe tbody tr th {\n",
              "        vertical-align: top;\n",
              "    }\n",
              "\n",
              "    .dataframe thead th {\n",
              "        text-align: right;\n",
              "    }\n",
              "</style>\n",
              "<table border=\"1\" class=\"dataframe\">\n",
              "  <thead>\n",
              "    <tr style=\"text-align: right;\">\n",
              "      <th></th>\n",
              "      <th>location</th>\n",
              "      <th>continent</th>\n",
              "      <th>population</th>\n",
              "      <th>life_expectancy</th>\n",
              "      <th>hospital_beds_per_thousand</th>\n",
              "      <th>gdp_per_capita</th>\n",
              "      <th>gdp</th>\n",
              "      <th>total_cases</th>\n",
              "      <th>total_deaths</th>\n",
              "      <th>total_tests</th>\n",
              "      <th>tests_per_million</th>\n",
              "      <th>cases_per_million</th>\n",
              "      <th>deaths_per_million</th>\n",
              "    </tr>\n",
              "  </thead>\n",
              "  <tbody>\n",
              "    <tr>\n",
              "      <th>162</th>\n",
              "      <td>San Marino</td>\n",
              "      <td>Europe</td>\n",
              "      <td>33938.0</td>\n",
              "      <td>84.97</td>\n",
              "      <td>3.80</td>\n",
              "      <td>56861.470</td>\n",
              "      <td>1.929765e+09</td>\n",
              "      <td>735.0</td>\n",
              "      <td>42.0</td>\n",
              "      <td>NaN</td>\n",
              "      <td>NaN</td>\n",
              "      <td>21657.139490</td>\n",
              "      <td>1237.550828</td>\n",
              "    </tr>\n",
              "    <tr>\n",
              "      <th>150</th>\n",
              "      <td>Peru</td>\n",
              "      <td>South America</td>\n",
              "      <td>32971846.0</td>\n",
              "      <td>76.74</td>\n",
              "      <td>1.60</td>\n",
              "      <td>12236.706</td>\n",
              "      <td>4.034668e+11</td>\n",
              "      <td>663437.0</td>\n",
              "      <td>29259.0</td>\n",
              "      <td>584232.0</td>\n",
              "      <td>17719.117092</td>\n",
              "      <td>20121.318048</td>\n",
              "      <td>887.393445</td>\n",
              "    </tr>\n",
              "    <tr>\n",
              "      <th>18</th>\n",
              "      <td>Belgium</td>\n",
              "      <td>Europe</td>\n",
              "      <td>11589616.0</td>\n",
              "      <td>81.63</td>\n",
              "      <td>5.64</td>\n",
              "      <td>42658.576</td>\n",
              "      <td>4.943965e+11</td>\n",
              "      <td>85817.0</td>\n",
              "      <td>9898.0</td>\n",
              "      <td>2281853.0</td>\n",
              "      <td>196887.713967</td>\n",
              "      <td>7404.645676</td>\n",
              "      <td>854.040375</td>\n",
              "    </tr>\n",
              "    <tr>\n",
              "      <th>3</th>\n",
              "      <td>Andorra</td>\n",
              "      <td>Europe</td>\n",
              "      <td>77265.0</td>\n",
              "      <td>83.73</td>\n",
              "      <td>NaN</td>\n",
              "      <td>NaN</td>\n",
              "      <td>NaN</td>\n",
              "      <td>1199.0</td>\n",
              "      <td>53.0</td>\n",
              "      <td>NaN</td>\n",
              "      <td>NaN</td>\n",
              "      <td>15518.022390</td>\n",
              "      <td>685.950948</td>\n",
              "    </tr>\n",
              "    <tr>\n",
              "      <th>177</th>\n",
              "      <td>Spain</td>\n",
              "      <td>Europe</td>\n",
              "      <td>46754783.0</td>\n",
              "      <td>83.56</td>\n",
              "      <td>2.97</td>\n",
              "      <td>34272.360</td>\n",
              "      <td>1.602397e+12</td>\n",
              "      <td>479554.0</td>\n",
              "      <td>29194.0</td>\n",
              "      <td>6416533.0</td>\n",
              "      <td>137238.001939</td>\n",
              "      <td>10256.790198</td>\n",
              "      <td>624.406705</td>\n",
              "    </tr>\n",
              "    <tr>\n",
              "      <th>198</th>\n",
              "      <td>United Kingdom</td>\n",
              "      <td>Europe</td>\n",
              "      <td>67886004.0</td>\n",
              "      <td>81.32</td>\n",
              "      <td>2.54</td>\n",
              "      <td>39753.244</td>\n",
              "      <td>2.698689e+12</td>\n",
              "      <td>338676.0</td>\n",
              "      <td>41514.0</td>\n",
              "      <td>13447568.0</td>\n",
              "      <td>198090.434075</td>\n",
              "      <td>4988.892850</td>\n",
              "      <td>611.525168</td>\n",
              "    </tr>\n",
              "    <tr>\n",
              "      <th>40</th>\n",
              "      <td>Chile</td>\n",
              "      <td>South America</td>\n",
              "      <td>19116209.0</td>\n",
              "      <td>80.18</td>\n",
              "      <td>2.11</td>\n",
              "      <td>22767.037</td>\n",
              "      <td>4.352194e+11</td>\n",
              "      <td>414739.0</td>\n",
              "      <td>11344.0</td>\n",
              "      <td>2458762.0</td>\n",
              "      <td>128621.841287</td>\n",
              "      <td>21695.671982</td>\n",
              "      <td>593.423100</td>\n",
              "    </tr>\n",
              "    <tr>\n",
              "      <th>97</th>\n",
              "      <td>Italy</td>\n",
              "      <td>Europe</td>\n",
              "      <td>60461828.0</td>\n",
              "      <td>83.51</td>\n",
              "      <td>3.18</td>\n",
              "      <td>35220.084</td>\n",
              "      <td>2.129471e+12</td>\n",
              "      <td>271515.0</td>\n",
              "      <td>35497.0</td>\n",
              "      <td>5214766.0</td>\n",
              "      <td>86248.897403</td>\n",
              "      <td>4490.684602</td>\n",
              "      <td>587.097697</td>\n",
              "    </tr>\n",
              "    <tr>\n",
              "      <th>27</th>\n",
              "      <td>Brazil</td>\n",
              "      <td>South America</td>\n",
              "      <td>212559409.0</td>\n",
              "      <td>75.88</td>\n",
              "      <td>2.20</td>\n",
              "      <td>14103.452</td>\n",
              "      <td>2.997821e+12</td>\n",
              "      <td>3997865.0</td>\n",
              "      <td>123780.0</td>\n",
              "      <td>4797948.0</td>\n",
              "      <td>22572.268255</td>\n",
              "      <td>18808.224105</td>\n",
              "      <td>582.331314</td>\n",
              "    </tr>\n",
              "    <tr>\n",
              "      <th>182</th>\n",
              "      <td>Sweden</td>\n",
              "      <td>Europe</td>\n",
              "      <td>10099270.0</td>\n",
              "      <td>82.80</td>\n",
              "      <td>2.22</td>\n",
              "      <td>46949.283</td>\n",
              "      <td>4.741535e+11</td>\n",
              "      <td>84532.0</td>\n",
              "      <td>5820.0</td>\n",
              "      <td>NaN</td>\n",
              "      <td>NaN</td>\n",
              "      <td>8370.109919</td>\n",
              "      <td>576.279276</td>\n",
              "    </tr>\n",
              "  </tbody>\n",
              "</table>\n",
              "</div>\n",
              "      <button class=\"colab-df-convert\" onclick=\"convertToInteractive('df-13d7cd25-465a-4389-9d29-4ac002942d6e')\"\n",
              "              title=\"Convert this dataframe to an interactive table.\"\n",
              "              style=\"display:none;\">\n",
              "        \n",
              "  <svg xmlns=\"http://www.w3.org/2000/svg\" height=\"24px\"viewBox=\"0 0 24 24\"\n",
              "       width=\"24px\">\n",
              "    <path d=\"M0 0h24v24H0V0z\" fill=\"none\"/>\n",
              "    <path d=\"M18.56 5.44l.94 2.06.94-2.06 2.06-.94-2.06-.94-.94-2.06-.94 2.06-2.06.94zm-11 1L8.5 8.5l.94-2.06 2.06-.94-2.06-.94L8.5 2.5l-.94 2.06-2.06.94zm10 10l.94 2.06.94-2.06 2.06-.94-2.06-.94-.94-2.06-.94 2.06-2.06.94z\"/><path d=\"M17.41 7.96l-1.37-1.37c-.4-.4-.92-.59-1.43-.59-.52 0-1.04.2-1.43.59L10.3 9.45l-7.72 7.72c-.78.78-.78 2.05 0 2.83L4 21.41c.39.39.9.59 1.41.59.51 0 1.02-.2 1.41-.59l7.78-7.78 2.81-2.81c.8-.78.8-2.07 0-2.86zM5.41 20L4 18.59l7.72-7.72 1.47 1.35L5.41 20z\"/>\n",
              "  </svg>\n",
              "      </button>\n",
              "      \n",
              "  <style>\n",
              "    .colab-df-container {\n",
              "      display:flex;\n",
              "      flex-wrap:wrap;\n",
              "      gap: 12px;\n",
              "    }\n",
              "\n",
              "    .colab-df-convert {\n",
              "      background-color: #E8F0FE;\n",
              "      border: none;\n",
              "      border-radius: 50%;\n",
              "      cursor: pointer;\n",
              "      display: none;\n",
              "      fill: #1967D2;\n",
              "      height: 32px;\n",
              "      padding: 0 0 0 0;\n",
              "      width: 32px;\n",
              "    }\n",
              "\n",
              "    .colab-df-convert:hover {\n",
              "      background-color: #E2EBFA;\n",
              "      box-shadow: 0px 1px 2px rgba(60, 64, 67, 0.3), 0px 1px 3px 1px rgba(60, 64, 67, 0.15);\n",
              "      fill: #174EA6;\n",
              "    }\n",
              "\n",
              "    [theme=dark] .colab-df-convert {\n",
              "      background-color: #3B4455;\n",
              "      fill: #D2E3FC;\n",
              "    }\n",
              "\n",
              "    [theme=dark] .colab-df-convert:hover {\n",
              "      background-color: #434B5C;\n",
              "      box-shadow: 0px 1px 3px 1px rgba(0, 0, 0, 0.15);\n",
              "      filter: drop-shadow(0px 1px 2px rgba(0, 0, 0, 0.3));\n",
              "      fill: #FFFFFF;\n",
              "    }\n",
              "  </style>\n",
              "\n",
              "      <script>\n",
              "        const buttonEl =\n",
              "          document.querySelector('#df-13d7cd25-465a-4389-9d29-4ac002942d6e button.colab-df-convert');\n",
              "        buttonEl.style.display =\n",
              "          google.colab.kernel.accessAllowed ? 'block' : 'none';\n",
              "\n",
              "        async function convertToInteractive(key) {\n",
              "          const element = document.querySelector('#df-13d7cd25-465a-4389-9d29-4ac002942d6e');\n",
              "          const dataTable =\n",
              "            await google.colab.kernel.invokeFunction('convertToInteractive',\n",
              "                                                     [key], {});\n",
              "          if (!dataTable) return;\n",
              "\n",
              "          const docLinkHtml = 'Like what you see? Visit the ' +\n",
              "            '<a target=\"_blank\" href=https://colab.research.google.com/notebooks/data_table.ipynb>data table notebook</a>'\n",
              "            + ' to learn more about interactive tables.';\n",
              "          element.innerHTML = '';\n",
              "          dataTable['output_type'] = 'display_data';\n",
              "          await google.colab.output.renderOutput(dataTable, element);\n",
              "          const docLink = document.createElement('div');\n",
              "          docLink.innerHTML = docLinkHtml;\n",
              "          element.appendChild(docLink);\n",
              "        }\n",
              "      </script>\n",
              "    </div>\n",
              "  </div>\n",
              "  "
            ]
          },
          "metadata": {},
          "execution_count": 67
        }
      ],
      "source": [
        "highest_deaths_df"
      ]
    },
    {
      "cell_type": "code",
      "execution_count": 68,
      "metadata": {
        "id": "VSnKEOzfAAUe",
        "colab": {
          "base_uri": "https://localhost:8080/"
        },
        "outputId": "a1c80ee2-5390-4dc2-ab3b-4d60b348a6eb"
      },
      "outputs": [
        {
          "output_type": "stream",
          "name": "stdout",
          "text": [
            "[jovian] Detected Colab notebook...\u001b[0m\n",
            "[jovian] jovian.commit() is no longer required on Google Colab. If you ran this notebook from Jovian, \n",
            "then just save this file in Colab using Ctrl+S/Cmd+S and it will be updated on Jovian. \n",
            "Also, you can also delete this cell, it's no longer necessary.\u001b[0m\n"
          ]
        }
      ],
      "source": [
        "jovian.commit(project='pandas-practice-assignment', environment=None)"
      ]
    },
    {
      "cell_type": "markdown",
      "metadata": {
        "id": "4QmjLgU7AAUf"
      },
      "source": [
        "**(Optional) Q: Count number of countries that feature in both the lists of \"highest number of tests per million\" and \"highest number of cases per million\".**"
      ]
    },
    {
      "cell_type": "code",
      "execution_count": 77,
      "metadata": {
        "id": "v63QIhmiAAUf"
      },
      "outputs": [],
      "source": [
        "countries_feature_highest_tests_cases = highest_cases_df.merge(highest_tests_df,on= \"location\" )"
      ]
    },
    {
      "cell_type": "code",
      "execution_count": 78,
      "metadata": {
        "id": "yOXjRSCkAAUf"
      },
      "outputs": [],
      "source": [
        "num_countries_feature_highest_tests_cases = len(countries_feature_highest_tests_cases)"
      ]
    },
    {
      "cell_type": "code",
      "execution_count": 81,
      "metadata": {
        "id": "fSVQ-QT4AAUf",
        "colab": {
          "base_uri": "https://localhost:8080/"
        },
        "outputId": "86ae2b4c-83ea-4177-baae-484805b185db"
      },
      "outputs": [
        {
          "output_type": "stream",
          "name": "stdout",
          "text": [
            "Number of countries that feature in both the lists of \"highest number of tests per million\" and \"highest number of cases per million is 2 \n"
          ]
        }
      ],
      "source": [
        "print(\"Number of countries that feature in both the lists of \\\"highest number of tests per million\\\" and \\\"highest number of cases per million is {} \".format(num_countries_feature_highest_tests_cases))"
      ]
    },
    {
      "cell_type": "code",
      "execution_count": 82,
      "metadata": {
        "id": "GTxmGpIrAAUf",
        "colab": {
          "base_uri": "https://localhost:8080/"
        },
        "outputId": "768cc0a4-3246-45c6-a4ae-34f3915f9982"
      },
      "outputs": [
        {
          "output_type": "stream",
          "name": "stdout",
          "text": [
            "[jovian] Detected Colab notebook...\u001b[0m\n",
            "[jovian] jovian.commit() is no longer required on Google Colab. If you ran this notebook from Jovian, \n",
            "then just save this file in Colab using Ctrl+S/Cmd+S and it will be updated on Jovian. \n",
            "Also, you can also delete this cell, it's no longer necessary.\u001b[0m\n"
          ]
        }
      ],
      "source": [
        "jovian.commit(project='pandas-practice-assignment', environment=None)"
      ]
    },
    {
      "cell_type": "markdown",
      "metadata": {
        "id": "NQ8l4OXyAAUf"
      },
      "source": [
        "**(Optional) Q: Count number of countries that feature in both the lists \"20 countries with lowest GDP per capita\" and \"20 countries with the lowest number of hospital beds per thousand population\". Only consider countries with a population higher than 10 million while creating the list.**"
      ]
    },
    {
      "cell_type": "code",
      "execution_count": 87,
      "metadata": {
        "id": "xWbyf_M2AAUf"
      },
      "outputs": [],
      "source": [
        "countries_pop_great_10 = countries_df[countries_df[\"population\"]>10000000]\n",
        "countries_pop_great_10_low_GDP_20 = countries_pop_great_10.sort_values(\"gdp_per_capita\").head(20)\n",
        "countries_pop_great_10_low_hosp_20 = countries_pop_great_10.sort_values(\"hospital_beds_per_thousand\").head(20)"
      ]
    },
    {
      "cell_type": "code",
      "execution_count": 89,
      "metadata": {
        "id": "laMpzau6AAUf"
      },
      "outputs": [],
      "source": [
        "countries_pop_great_10_low_GDP_hosp = countries_pop_great_10_low_GDP_20.merge(countries_pop_great_10_low_hosp_20,on=\"location\")"
      ]
    },
    {
      "cell_type": "code",
      "execution_count": 91,
      "metadata": {
        "id": "fEI-QqKuAAUf",
        "colab": {
          "base_uri": "https://localhost:8080/"
        },
        "outputId": "514853a4-4d69-47e9-b945-2ce198d416f2"
      },
      "outputs": [
        {
          "output_type": "stream",
          "name": "stdout",
          "text": [
            "The number of countries that feature in both the lists \"20 countries with lowest GDP per capita\" and \"20 countries with the lowest number of hospital beds per thousand population\" is 14 \n"
          ]
        }
      ],
      "source": [
        "print(\"The number of countries that feature in both the lists \\\"20 countries with lowest GDP per capita\\\" and \\\"20 countries with the lowest number of hospital beds per thousand population\\\" is {} \".format(len(countries_pop_great_10_low_GDP_hosp)))"
      ]
    },
    {
      "cell_type": "code",
      "execution_count": 92,
      "metadata": {
        "id": "6O81g28vAAUg"
      },
      "outputs": [],
      "source": [
        "import jovian"
      ]
    },
    {
      "cell_type": "code",
      "execution_count": 93,
      "metadata": {
        "id": "xpuF-MwIAAUg",
        "colab": {
          "base_uri": "https://localhost:8080/"
        },
        "outputId": "dfaa6226-6d9d-4756-d008-c7098dd4b4b3"
      },
      "outputs": [
        {
          "output_type": "stream",
          "name": "stdout",
          "text": [
            "[jovian] Detected Colab notebook...\u001b[0m\n",
            "[jovian] jovian.commit() is no longer required on Google Colab. If you ran this notebook from Jovian, \n",
            "then just save this file in Colab using Ctrl+S/Cmd+S and it will be updated on Jovian. \n",
            "Also, you can also delete this cell, it's no longer necessary.\u001b[0m\n"
          ]
        }
      ],
      "source": [
        "jovian.commit(project='pandas-practice-assignment', environment=None)"
      ]
    },
    {
      "cell_type": "markdown",
      "metadata": {
        "id": "kiNT62PfAAUg"
      },
      "source": [
        "## Submission \n",
        "\n",
        "Congratulations on making it this far! You've reached the end of this assignment, and you just completed your first real-world data analysis problem. It's time to record one final version of your notebook for submission.\n",
        "\n",
        "Make a submission here by filling the submission form: https://jovian.ai/learn/data-analysis-with-python-zero-to-pandas/assignment/assignment-3-pandas-practice\n",
        "\n",
        "Also make sure to help others on the forum: https://jovian.ai/forum/t/assignment-3-pandas-practice/11225/2"
      ]
    },
    {
      "cell_type": "code",
      "execution_count": null,
      "metadata": {
        "id": "P4t2pr_rAAUg"
      },
      "outputs": [],
      "source": []
    }
  ],
  "metadata": {
    "colab": {
      "provenance": [],
      "include_colab_link": true
    },
    "kernelspec": {
      "display_name": "Python 3",
      "language": "python",
      "name": "python3"
    },
    "language_info": {
      "codemirror_mode": {
        "name": "ipython",
        "version": 3
      },
      "file_extension": ".py",
      "mimetype": "text/x-python",
      "name": "python",
      "nbconvert_exporter": "python",
      "pygments_lexer": "ipython3",
      "version": "3.8.6"
    }
  },
  "nbformat": 4,
  "nbformat_minor": 0
}